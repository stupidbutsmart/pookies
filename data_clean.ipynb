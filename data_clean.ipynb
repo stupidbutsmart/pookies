{
 "cells": [
  {
   "cell_type": "code",
   "execution_count": 1,
   "metadata": {},
   "outputs": [],
   "source": [
    "import pandas as pd\n",
    "import matplotlib.pyplot as plt\n",
    "import numpy as np"
   ]
  },
  {
   "cell_type": "code",
   "execution_count": null,
   "metadata": {},
   "outputs": [
    {
     "name": "stdout",
     "output_type": "stream",
     "text": [
      "<class 'pandas.core.frame.DataFrame'>\n",
      "RangeIndex: 251769 entries, 0 to 251768\n",
      "Data columns (total 30 columns):\n",
      " #   Column                 Non-Null Count   Dtype  \n",
      "---  ------                 --------------   -----  \n",
      " 0   imo                    251769 non-null  int64  \n",
      " 1   mmsi                   251769 non-null  int64  \n",
      " 2   vessel_name            251769 non-null  object \n",
      " 3   date_of_build          251769 non-null  object \n",
      " 4   vessel_type            251769 non-null  object \n",
      " 5   group                  251769 non-null  object \n",
      " 6   timestamp              251769 non-null  object \n",
      " 7   lon                    251769 non-null  float64\n",
      " 8   lat                    251769 non-null  float64\n",
      " 9   nav_stat               251769 non-null  int64  \n",
      " 10  speed                  249752 non-null  float64\n",
      " 11  course                 251769 non-null  int64  \n",
      " 12  heading                250464 non-null  float64\n",
      " 13  fuel_category          251769 non-null  int64  \n",
      " 14  main_engine_fuel_type  251769 non-null  object \n",
      " 15  aux_engine_fuel_type   251769 non-null  object \n",
      " 16  engine_type            251334 non-null  object \n",
      " 17  berth                  0 non-null       float64\n",
      " 18  port_name              251769 non-null  object \n",
      " 19  anchorage              249656 non-null  object \n",
      " 20  terminal               0 non-null       float64\n",
      " 21  maneuvering_zone       0 non-null       float64\n",
      " 22  p                      251318 non-null  float64\n",
      " 23  vref                   250087 non-null  float64\n",
      " 24  sfc_me                 251334 non-null  float64\n",
      " 25  sfc_ae                 251334 non-null  float64\n",
      " 26  sfc_ab                 251769 non-null  float64\n",
      " 27  ael                    251769 non-null  float64\n",
      " 28  abl                    251769 non-null  float64\n",
      " 29  distance               251769 non-null  float64\n",
      "dtypes: float64(15), int64(5), object(10)\n",
      "memory usage: 57.6+ MB\n",
      "None\n",
      "<class 'pandas.core.frame.DataFrame'>\n",
      "RangeIndex: 4166 entries, 0 to 4165\n",
      "Data columns (total 22 columns):\n",
      " #   Column                                Non-Null Count  Dtype \n",
      "---  ------                                --------------  ----- \n",
      " 0   current_snapshot_date_utc             4166 non-null   object\n",
      " 1   imo                                   4166 non-null   int64 \n",
      " 2   current_port_name                     4166 non-null   object\n",
      " 3   current_port_country_name             4166 non-null   object\n",
      " 4   current_earliest_visit_time_utc       4166 non-null   object\n",
      " 5   current_latest_visit_time_utc         4166 non-null   object\n",
      " 6   current_zone_polygon_name             4166 non-null   object\n",
      " 7   current_zone_type                     4166 non-null   object\n",
      " 8   next_port_name                        4047 non-null   object\n",
      " 9   next_country_name                     4047 non-null   object\n",
      " 10  next_country_earliest_visit_time_utc  4047 non-null   object\n",
      " 11  next_country_latest_visit_time_utc    4047 non-null   object\n",
      " 12  next_zone_polygon_name                3940 non-null   object\n",
      " 13  next_snapshot_date                    4047 non-null   object\n",
      " 14  next_zone_type                        3940 non-null   object\n",
      " 15  prev_port_name                        4166 non-null   object\n",
      " 16  prev_country_name                     4166 non-null   object\n",
      " 17  prev_country_earliest_visit_time_utc  4166 non-null   object\n",
      " 18  prev_country_latest_visit_time_utc    4166 non-null   object\n",
      " 19  prev_zone_polygon_name                4100 non-null   object\n",
      " 20  prev_snapshot_date                    4166 non-null   object\n",
      " 21  prev_zone_type                        4100 non-null   object\n",
      "dtypes: int64(1), object(21)\n",
      "memory usage: 716.2+ KB\n",
      "None\n",
      "<class 'pandas.core.frame.DataFrame'>\n",
      "RangeIndex: 12553 entries, 0 to 12552\n",
      "Data columns (total 7 columns):\n",
      " #   Column             Non-Null Count  Dtype  \n",
      "---  ------             --------------  -----  \n",
      " 0   snapshot_date_utc  12553 non-null  object \n",
      " 1   imo                12553 non-null  int64  \n",
      " 2   distance_nm        12553 non-null  float64\n",
      " 3   duration_minutes   12553 non-null  float64\n",
      " 4   avg_speed_kt       12553 non-null  float64\n",
      " 5   min_speed_kt       12553 non-null  float64\n",
      " 6   max_speed_kt       12553 non-null  float64\n",
      "dtypes: float64(5), int64(1), object(1)\n",
      "memory usage: 686.6+ KB\n",
      "None\n"
     ]
    }
   ],
   "source": [
    "ais_dataset = pd.read_csv('./datasets/ais_dataset.csv')\n",
    "distance_dataset = pd.read_csv('./datasets/distance_dataset.csv')\n",
    "port_call_dataset = pd.read_csv('./datasets/port_call_dataset.csv')\n",
    "\n",
    "print(ais_dataset.info())\n",
    "# no terminal, maneuvering , berth\n",
    "# suggests that only anchored and transit\n",
    "# we can simply find if anchored or not"
   ]
  },
  {
   "cell_type": "code",
   "execution_count": 9,
   "metadata": {},
   "outputs": [
    {
     "data": {
      "text/plain": [
       "2543"
      ]
     },
     "execution_count": 9,
     "metadata": {},
     "output_type": "execute_result"
    }
   ],
   "source": []
  },
  {
   "cell_type": "code",
   "execution_count": null,
   "metadata": {},
   "outputs": [],
   "source": []
  }
 ],
 "metadata": {
  "kernelspec": {
   "display_name": "base",
   "language": "python",
   "name": "python3"
  },
  "language_info": {
   "codemirror_mode": {
    "name": "ipython",
    "version": 3
   },
   "file_extension": ".py",
   "mimetype": "text/x-python",
   "name": "python",
   "nbconvert_exporter": "python",
   "pygments_lexer": "ipython3",
   "version": "3.12.4"
  }
 },
 "nbformat": 4,
 "nbformat_minor": 2
}
