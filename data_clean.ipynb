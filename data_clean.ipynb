{
 "cells": [
  {
   "cell_type": "code",
   "execution_count": 617,
   "metadata": {},
   "outputs": [],
   "source": [
    "import pandas as pd\n",
    "import matplotlib.pyplot as plt\n",
    "import numpy as np\n",
    "from datetime import datetime as dt\n",
    "import math\n",
    "import warnings\n",
    "import matplotlib.pyplot as plt\n",
    "warnings.filterwarnings('ignore')"
   ]
  },
  {
   "cell_type": "code",
   "execution_count": 618,
   "metadata": {},
   "outputs": [
    {
     "name": "stdout",
     "output_type": "stream",
     "text": [
      "2543\n",
      "4166\n",
      "<class 'pandas.core.frame.DataFrame'>\n",
      "RangeIndex: 251769 entries, 0 to 251768\n",
      "Data columns (total 30 columns):\n",
      " #   Column                 Non-Null Count   Dtype  \n",
      "---  ------                 --------------   -----  \n",
      " 0   imo                    251769 non-null  int64  \n",
      " 1   mmsi                   251769 non-null  int64  \n",
      " 2   vessel_name            251769 non-null  object \n",
      " 3   date_of_build          251769 non-null  object \n",
      " 4   vessel_type            251769 non-null  object \n",
      " 5   group                  251769 non-null  object \n",
      " 6   timestamp              251769 non-null  object \n",
      " 7   lon                    251769 non-null  float64\n",
      " 8   lat                    251769 non-null  float64\n",
      " 9   nav_stat               251769 non-null  int64  \n",
      " 10  speed                  249752 non-null  float64\n",
      " 11  course                 251769 non-null  int64  \n",
      " 12  heading                250464 non-null  float64\n",
      " 13  fuel_category          251769 non-null  int64  \n",
      " 14  main_engine_fuel_type  251769 non-null  object \n",
      " 15  aux_engine_fuel_type   251769 non-null  object \n",
      " 16  engine_type            251334 non-null  object \n",
      " 17  berth                  0 non-null       float64\n",
      " 18  port_name              251769 non-null  object \n",
      " 19  anchorage              249656 non-null  object \n",
      " 20  terminal               0 non-null       float64\n",
      " 21  maneuvering_zone       0 non-null       float64\n",
      " 22  p                      251318 non-null  float64\n",
      " 23  vref                   250087 non-null  float64\n",
      " 24  sfc_me                 251334 non-null  float64\n",
      " 25  sfc_ae                 251334 non-null  float64\n",
      " 26  sfc_ab                 251769 non-null  float64\n",
      " 27  ael                    251769 non-null  float64\n",
      " 28  abl                    251769 non-null  float64\n",
      " 29  distance               251769 non-null  float64\n",
      "dtypes: float64(15), int64(5), object(10)\n",
      "memory usage: 57.6+ MB\n",
      "None\n",
      "<class 'pandas.core.frame.DataFrame'>\n",
      "RangeIndex: 4166 entries, 0 to 4165\n",
      "Data columns (total 22 columns):\n",
      " #   Column                                Non-Null Count  Dtype \n",
      "---  ------                                --------------  ----- \n",
      " 0   current_snapshot_date_utc             4166 non-null   object\n",
      " 1   imo                                   4166 non-null   int64 \n",
      " 2   current_port_name                     4166 non-null   object\n",
      " 3   current_port_country_name             4166 non-null   object\n",
      " 4   current_earliest_visit_time_utc       4166 non-null   object\n",
      " 5   current_latest_visit_time_utc         4166 non-null   object\n",
      " 6   current_zone_polygon_name             4166 non-null   object\n",
      " 7   current_zone_type                     4166 non-null   object\n",
      " 8   next_port_name                        4047 non-null   object\n",
      " 9   next_country_name                     4047 non-null   object\n",
      " 10  next_country_earliest_visit_time_utc  4047 non-null   object\n",
      " 11  next_country_latest_visit_time_utc    4047 non-null   object\n",
      " 12  next_zone_polygon_name                3940 non-null   object\n",
      " 13  next_snapshot_date                    4047 non-null   object\n",
      " 14  next_zone_type                        3940 non-null   object\n",
      " 15  prev_port_name                        4166 non-null   object\n",
      " 16  prev_country_name                     4166 non-null   object\n",
      " 17  prev_country_earliest_visit_time_utc  4166 non-null   object\n",
      " 18  prev_country_latest_visit_time_utc    4166 non-null   object\n",
      " 19  prev_zone_polygon_name                4100 non-null   object\n",
      " 20  prev_snapshot_date                    4166 non-null   object\n",
      " 21  prev_zone_type                        4100 non-null   object\n",
      "dtypes: int64(1), object(21)\n",
      "memory usage: 716.2+ KB\n",
      "None\n",
      "<class 'pandas.core.frame.DataFrame'>\n",
      "RangeIndex: 12553 entries, 0 to 12552\n",
      "Data columns (total 7 columns):\n",
      " #   Column             Non-Null Count  Dtype  \n",
      "---  ------             --------------  -----  \n",
      " 0   snapshot_date_utc  12553 non-null  object \n",
      " 1   imo                12553 non-null  int64  \n",
      " 2   distance_nm        12553 non-null  float64\n",
      " 3   duration_minutes   12553 non-null  float64\n",
      " 4   avg_speed_kt       12553 non-null  float64\n",
      " 5   min_speed_kt       12553 non-null  float64\n",
      " 6   max_speed_kt       12553 non-null  float64\n",
      "dtypes: float64(5), int64(1), object(1)\n",
      "memory usage: 686.6+ KB\n",
      "None\n"
     ]
    }
   ],
   "source": [
    "ais_dataset = pd.read_csv('./datasets/ais_dataset.csv')\n",
    "port_call_dataset = pd.read_csv('./datasets/port_call_dataset.csv')\n",
    "distance_dataset = pd.read_csv('./datasets/distance_dataset.csv')\n",
    "llaf_table = pd.read_csv('./datasets/llaf_table.csv')\n",
    "\n",
    "\n",
    "\n",
    "\n",
    "print(len(ais_dataset['imo'].unique()))\n",
    "print(len(port_call_dataset['imo'].unique()))\n",
    "print(ais_dataset.info())\n",
    "print(port_call_dataset.info())\n",
    "print(distance_dataset.info())\n",
    "# no terminal, maneuvering , berth\n",
    "# suggests that only anchored and transit\n",
    "# we can simply find if anchored or not"
   ]
  },
  {
   "cell_type": "markdown",
   "metadata": {},
   "source": [
    "### Dropping Columns\n",
    "---"
   ]
  },
  {
   "cell_type": "markdown",
   "metadata": {},
   "source": [
    "##### AIS"
   ]
  },
  {
   "cell_type": "code",
   "execution_count": 619,
   "metadata": {},
   "outputs": [],
   "source": [
    "# dropping missing values\n",
    "ais_dataset.drop(columns=['berth' , 'terminal' , 'maneuvering_zone'] , inplace=True)\n",
    "# ais_dataset.dropna(inplace=True) # 《 5% missing data"
   ]
  },
  {
   "cell_type": "code",
   "execution_count": 620,
   "metadata": {},
   "outputs": [],
   "source": [
    "# From background research cum provided information\n",
    "# ABL AEL !== 0\n",
    "# drop meta data:\n",
    "# port_name , mmsi (cannot be used since other datasets only have imo) , date_of_build\n",
    "useless_columns = ['port_name' , 'mmsi' , 'date_of_build']\n",
    "ais_dataset.drop(columns=useless_columns , inplace=True)"
   ]
  },
  {
   "cell_type": "code",
   "execution_count": 621,
   "metadata": {},
   "outputs": [],
   "source": [
    "abl_ael_not_zero_condition = (ais_dataset['abl'] > 0) & (ais_dataset['ael'] > 0)\n",
    "ais_dataset = ais_dataset[abl_ael_not_zero_condition]"
   ]
  },
  {
   "cell_type": "code",
   "execution_count": 622,
   "metadata": {},
   "outputs": [
    {
     "name": "stdout",
     "output_type": "stream",
     "text": [
      "<class 'pandas.core.frame.DataFrame'>\n",
      "Index: 248013 entries, 0 to 251768\n",
      "Data columns (total 24 columns):\n",
      " #   Column                 Non-Null Count   Dtype  \n",
      "---  ------                 --------------   -----  \n",
      " 0   imo                    248013 non-null  int64  \n",
      " 1   vessel_name            248013 non-null  object \n",
      " 2   vessel_type            248013 non-null  object \n",
      " 3   group                  248013 non-null  object \n",
      " 4   timestamp              248013 non-null  object \n",
      " 5   lon                    248013 non-null  float64\n",
      " 6   lat                    248013 non-null  float64\n",
      " 7   nav_stat               248013 non-null  int64  \n",
      " 8   speed                  246213 non-null  float64\n",
      " 9   course                 248013 non-null  int64  \n",
      " 10  heading                246742 non-null  float64\n",
      " 11  fuel_category          248013 non-null  int64  \n",
      " 12  main_engine_fuel_type  248013 non-null  object \n",
      " 13  aux_engine_fuel_type   248013 non-null  object \n",
      " 14  engine_type            247590 non-null  object \n",
      " 15  anchorage              246144 non-null  object \n",
      " 16  p                      247590 non-null  float64\n",
      " 17  vref                   246624 non-null  float64\n",
      " 18  sfc_me                 247590 non-null  float64\n",
      " 19  sfc_ae                 247590 non-null  float64\n",
      " 20  sfc_ab                 248013 non-null  float64\n",
      " 21  ael                    248013 non-null  float64\n",
      " 22  abl                    248013 non-null  float64\n",
      " 23  distance               248013 non-null  float64\n",
      "dtypes: float64(12), int64(4), object(8)\n",
      "memory usage: 47.3+ MB\n"
     ]
    }
   ],
   "source": [
    "ais_dataset.info()"
   ]
  },
  {
   "cell_type": "markdown",
   "metadata": {},
   "source": [
    "### Imputing"
   ]
  },
  {
   "cell_type": "code",
   "execution_count": 623,
   "metadata": {},
   "outputs": [],
   "source": [
    "# When looking through the speed we notice each imo has a null speed\n",
    "# This suggests that each ship is anchored-travels to sg-travels further/stays in sg\n",
    "# Speed null values can be imputed as '0'\n",
    "ais_dataset['speed'].fillna(0 , inplace=True)"
   ]
  },
  {
   "cell_type": "code",
   "execution_count": 624,
   "metadata": {},
   "outputs": [],
   "source": [
    "# We can also drop speeds that are greather than 30\n",
    "less_than_30_condition = ais_dataset['speed'] < 30\n",
    "ais_dataset = ais_dataset[less_than_30_condition]"
   ]
  },
  {
   "cell_type": "code",
   "execution_count": 625,
   "metadata": {},
   "outputs": [
    {
     "name": "stdout",
     "output_type": "stream",
     "text": [
      "<class 'pandas.core.frame.DataFrame'>\n",
      "Index: 248013 entries, 0 to 251768\n",
      "Data columns (total 24 columns):\n",
      " #   Column                 Non-Null Count   Dtype  \n",
      "---  ------                 --------------   -----  \n",
      " 0   imo                    248013 non-null  int64  \n",
      " 1   vessel_name            248013 non-null  object \n",
      " 2   vessel_type            248013 non-null  object \n",
      " 3   group                  248013 non-null  object \n",
      " 4   timestamp              248013 non-null  object \n",
      " 5   lon                    248013 non-null  float64\n",
      " 6   lat                    248013 non-null  float64\n",
      " 7   nav_stat               248013 non-null  int64  \n",
      " 8   speed                  248013 non-null  float64\n",
      " 9   course                 248013 non-null  int64  \n",
      " 10  heading                246742 non-null  float64\n",
      " 11  fuel_category          248013 non-null  int64  \n",
      " 12  main_engine_fuel_type  248013 non-null  object \n",
      " 13  aux_engine_fuel_type   248013 non-null  object \n",
      " 14  engine_type            247590 non-null  object \n",
      " 15  anchorage              246144 non-null  object \n",
      " 16  p                      247590 non-null  float64\n",
      " 17  vref                   246624 non-null  float64\n",
      " 18  sfc_me                 247590 non-null  float64\n",
      " 19  sfc_ae                 247590 non-null  float64\n",
      " 20  sfc_ab                 248013 non-null  float64\n",
      " 21  ael                    248013 non-null  float64\n",
      " 22  abl                    248013 non-null  float64\n",
      " 23  distance               248013 non-null  float64\n",
      "dtypes: float64(12), int64(4), object(8)\n",
      "memory usage: 47.3+ MB\n"
     ]
    }
   ],
   "source": [
    "ais_dataset.info()"
   ]
  },
  {
   "cell_type": "code",
   "execution_count": 626,
   "metadata": {},
   "outputs": [],
   "source": [
    "# imputing the max speed for the distance dataset\n",
    "# Adding vref to the dataset\n",
    "# we will calculate for null max speeds to be vref * 1.06\n",
    "\n",
    "distance_dataset = pd.merge(distance_dataset , ais_dataset[['imo' , 'vref']] , on='imo' , how='inner')\n",
    "distance_dataset = distance_dataset.drop_duplicates()\n",
    "\n",
    "distance_dataset['max_speed_kt'] = distance_dataset.apply(lambda row: row['vref'] * 1.06 if pd.isna(row['max_speed_kt']) else row['max_speed_kt'] , axis=1)"
   ]
  },
  {
   "cell_type": "markdown",
   "metadata": {},
   "source": [
    "### Feature Engineering\n",
    "\n",
    "port call"
   ]
  },
  {
   "cell_type": "code",
   "execution_count": 627,
   "metadata": {},
   "outputs": [],
   "source": [
    "# creating time col (duration spent during an event)\n",
    "# duration travelled = current - prev earliest time\n",
    "# duration in port = current latest - current earliest\n",
    "def get_time_difference_in_seconds_from_utc(s1 , s2):\n",
    "  try: \n",
    "    current_time_timestamp = dt.strptime(s1, '%Y-%m-%dT%H:%M:%S.%f%z').timestamp()\n",
    "    prev_time_timestamp = dt.strptime(s2, '%Y-%m-%dT%H:%M:%S.%f%z').timestamp()\n",
    "    duration_timestamp_seconds = abs(current_time_timestamp - prev_time_timestamp)\n",
    "    return duration_timestamp_seconds\n",
    "  except:\n",
    "    # For when value is null\n",
    "    return np.nan\n",
    "\n",
    "def get_duration(col1 , col2):\n",
    "  def calculate(rows):\n",
    "    s1 = rows[col1]\n",
    "    s2 = rows[col2]\n",
    "    return round(get_time_difference_in_seconds_from_utc(s1 , s2) / 3600 , 5) # rounding to 5 dp\n",
    "  \n",
    "  return calculate\n",
    "\n",
    "\n",
    "prev_anchor = ['prev_country_earliest_visit_time_utc' , 'prev_country_latest_visit_time_utc']\n",
    "prev_to_sg_transit = ['prev_country_latest_visit_time_utc' , 'current_earliest_visit_time_utc']\n",
    "sg_anchor = ['current_latest_visit_time_utc' , 'current_earliest_visit_time_utc']\n",
    "sg_to_next_transit = ['current_latest_visit_time_utc' , 'next_country_earliest_visit_time_utc']\n",
    "next_anchor = ['next_country_earliest_visit_time_utc' , 'next_country_latest_visit_time_utc']\n",
    "\n",
    "port_call_dataset['Prev Anchor'] = port_call_dataset.loc[: , prev_anchor].apply(get_duration(*prev_anchor) , axis=1)\n",
    "port_call_dataset['Prev to SG Transit'] = port_call_dataset.loc[: , prev_to_sg_transit].apply(get_duration(*prev_to_sg_transit), axis=1) \n",
    "port_call_dataset['SG Anchor'] = port_call_dataset.loc[: , sg_anchor].apply(get_duration(*sg_anchor), axis=1)\n",
    "port_call_dataset['SG to Next Transit'] = port_call_dataset.loc[: , sg_to_next_transit].apply(get_duration(*sg_to_next_transit) , axis=1)\n",
    "port_call_dataset['Next Anchor'] = port_call_dataset.loc[: , next_anchor].apply(get_duration(*next_anchor) , axis=1)"
   ]
  },
  {
   "cell_type": "markdown",
   "metadata": {},
   "source": [
    "AIS dataset"
   ]
  },
  {
   "cell_type": "code",
   "execution_count": 628,
   "metadata": {},
   "outputs": [],
   "source": [
    "def get_state(row):\n",
    "  TRANSIT_NAV_STAT = [0 , 3 , 4 , 8 , 11 , 12]\n",
    "  if row['speed'] > 1 or row['nav_stat'] in TRANSIT_NAV_STAT:\n",
    "    return 'Transit'\n",
    "  return 'Anchored'"
   ]
  },
  {
   "cell_type": "code",
   "execution_count": 629,
   "metadata": {},
   "outputs": [],
   "source": [
    "ais_dataset['state'] = ais_dataset.apply(get_state , axis=1)"
   ]
  },
  {
   "cell_type": "code",
   "execution_count": 630,
   "metadata": {},
   "outputs": [
    {
     "data": {
      "text/plain": [
       "0         Transit\n",
       "1         Transit\n",
       "2         Transit\n",
       "3         Transit\n",
       "4         Transit\n",
       "           ...   \n",
       "251764    Transit\n",
       "251765    Transit\n",
       "251766    Transit\n",
       "251767    Transit\n",
       "251768    Transit\n",
       "Name: state, Length: 248013, dtype: object"
      ]
     },
     "execution_count": 630,
     "metadata": {},
     "output_type": "execute_result"
    }
   ],
   "source": [
    "ais_dataset['state']"
   ]
  },
  {
   "cell_type": "code",
   "execution_count": 631,
   "metadata": {},
   "outputs": [],
   "source": [
    "# Adding the admission tier\n"
   ]
  },
  {
   "cell_type": "markdown",
   "metadata": {},
   "source": [
    "### Calculating Before Emissions"
   ]
  },
  {
   "cell_type": "code",
   "execution_count": 632,
   "metadata": {},
   "outputs": [],
   "source": [
    "# Calculating ef\n",
    "ais_dataset['ef_me'] = ais_dataset['sfc_me'] * 0.867 * 3.667\n",
    "ais_dataset['ef_ae'] = ais_dataset['sfc_ae'] * 0.867 * 3.667\n",
    "ais_dataset['ef_ab'] = ais_dataset['sfc_ab'] * 0.867 * 3.667\n"
   ]
  },
  {
   "cell_type": "code",
   "execution_count": 633,
   "metadata": {},
   "outputs": [],
   "source": [
    "# result[\"ratio\"] = result[\"max_speed_kt\"] / result[\"vref\"]\n",
    "# result[\"rounded\"] = result[\"ratio\"].apply(lambda x: 0 if x < 1 else 1)\n",
    "\n",
    "# # Count the number of 0s and 1s\n",
    "# counts = result[\"rounded\"].value_counts()\n",
    "\n",
    "# # Plot the pie chart\n",
    "# plt.figure(figsize=(8, 6))\n",
    "# counts.plot.pie(\n",
    "#     labels=[\"Below 1 (0)\", \"Above or Equal to 1 (1)\"],\n",
    "#     autopct=\"%1.1f%%\",\n",
    "#     startangle=90,\n",
    "#     colors=[\"lightblue\", \"orange\"]\n",
    "# )\n",
    "\n",
    "# # Add a title\n",
    "# plt.title(\"Distribution of Rounded Values\", fontsize=14)\n",
    "# plt.ylabel(\"\")  # Hide the y-axis label\n",
    "# plt.show()"
   ]
  },
  {
   "cell_type": "code",
   "execution_count": 653,
   "metadata": {},
   "outputs": [
    {
     "name": "stdout",
     "output_type": "stream",
     "text": [
      "3.9299050600096015\n",
      "1.5400323979836774\n",
      "0.971435429668747\n",
      "6.441372887662026\n"
     ]
    }
   ],
   "source": [
    "print(np.mean(port_call_dataset['SG Anchor']))\n",
    "print(np.mean(port_call_dataset['Prev Anchor']))\n",
    "print(np.mean(port_call_dataset['Next Anchor'].notnull()))\n",
    "print(np.sum([3.9299050600096015,\n",
    "1.5400323979836774,\n",
    "0.971435429668747]))"
   ]
  },
  {
   "cell_type": "code",
   "execution_count": 635,
   "metadata": {},
   "outputs": [
    {
     "name": "stdout",
     "output_type": "stream",
     "text": [
      "['2024-06-30T00:20:08.000+0000' '2024-06-30T00:20:42.000+0000'\n",
      " '2024-06-30T00:45:03.000+0000' ... '2024-07-31T22:41:13.000+0000'\n",
      " '2024-07-31T23:15:01.000+0000' '2024-07-31T23:45:02.000+0000']\n",
      "Index(['imo', 'vessel_name', 'vessel_type', 'group', 'timestamp', 'lon', 'lat',\n",
      "       'nav_stat', 'speed', 'course', 'heading', 'fuel_category',\n",
      "       'main_engine_fuel_type', 'aux_engine_fuel_type', 'engine_type',\n",
      "       'anchorage', 'p', 'vref', 'sfc_me', 'sfc_ae', 'sfc_ab', 'ael', 'abl',\n",
      "       'distance', 'state', 'ef_me', 'ef_ae', 'ef_ab'],\n",
      "      dtype='object')\n"
     ]
    }
   ],
   "source": [
    "print(np.sort(port_call_dataset['current_earliest_visit_time_utc'].unique()))\n",
    "print(ais_dataset.columns)"
   ]
  },
  {
   "cell_type": "code",
   "execution_count": 636,
   "metadata": {},
   "outputs": [
    {
     "name": "stdout",
     "output_type": "stream",
     "text": [
      "Index(['current_snapshot_date_utc', 'imo', 'current_port_name',\n",
      "       'current_port_country_name', 'current_earliest_visit_time_utc',\n",
      "       'current_latest_visit_time_utc', 'current_zone_polygon_name',\n",
      "       'current_zone_type', 'next_port_name', 'next_country_name',\n",
      "       'next_country_earliest_visit_time_utc',\n",
      "       'next_country_latest_visit_time_utc', 'next_zone_polygon_name',\n",
      "       'next_snapshot_date', 'next_zone_type', 'prev_port_name',\n",
      "       'prev_country_name', 'prev_country_earliest_visit_time_utc',\n",
      "       'prev_country_latest_visit_time_utc', 'prev_zone_polygon_name',\n",
      "       'prev_snapshot_date', 'prev_zone_type', 'Prev Anchor',\n",
      "       'Prev to SG Transit', 'SG Anchor', 'SG to Next Transit', 'Next Anchor',\n",
      "       'vessel_type'],\n",
      "      dtype='object')\n",
      "vessel_type\n",
      "Deck Cargo Ship              22.287801\n",
      "Shuttle Tanker               17.537780\n",
      "Livestock Carrier            17.138988\n",
      "Heavy Load Carrier           16.533120\n",
      "LNG Tanker                   16.162102\n",
      "Crude Oil Tanker             16.098137\n",
      "Ore Carrier                  15.777661\n",
      "Crude/Oil Products Tanker    14.971319\n",
      "Products Tanker              14.913083\n",
      "Refrigerated Cargo Ship      14.812710\n",
      "Name: SG Anchor, dtype: float64\n",
      "vessel_type\n",
      "Refrigerated Cargo Ship            76.650293\n",
      "Container Ship (Fully Cellular)    53.404444\n",
      "Molten Sulphur Tanker              45.893890\n",
      "LNG Tanker                         33.321115\n",
      "LPG Tanker                         29.318258\n",
      "Vehicles Carrier                   25.198741\n",
      "Heavy Load Carrier                 23.720262\n",
      "Chemical/Products Tanker           17.889184\n",
      "Aggregates Carrier                 14.984878\n",
      "Crude Oil Tanker                   12.724338\n",
      "Name: Prev to SG Transit, dtype: float64\n"
     ]
    }
   ],
   "source": [
    "avgtime = pd.merge(port_call_dataset, ais_dataset[['imo', 'vessel_type']], how='inner', on='imo')\n",
    "# Check the columns of the merged DataFrame to ensure 'vessel_type' is present\n",
    "print(avgtime.columns)\n",
    "\n",
    "# Now group by 'vessel_type' and calculate the mean of 'Sg Anchor'\n",
    "avg_time_per_vessel_type = avgtime.groupby('vessel_type')['SG Anchor'].mean()\n",
    "avg_speed_per_vessel_type = avgtime.groupby('vessel_type')['Prev to SG Transit'].mean()# Print the result\n",
    "print(avg_time_per_vessel_type.nlargest(10))\n",
    "print(avg_speed_per_vessel_type.nlargest(10))"
   ]
  },
  {
   "cell_type": "markdown",
   "metadata": {},
   "source": [
    "### Attaching Emissions to port call"
   ]
  },
  {
   "cell_type": "code",
   "execution_count": 637,
   "metadata": {},
   "outputs": [],
   "source": [
    "def calculate_emissions_aux(row):\n",
    "    LA = row['ael']\n",
    "    LBL = row['abl']\n",
    "    EF_SFCAE = row['ef_ae']\n",
    "    EF_SFCAB = row['ef_ab']\n",
    "    base_emissions = (LA * EF_SFCAE + LBL * EF_SFCAB)\n",
    "    return base_emissions\n",
    "\n",
    "\n",
    "# Apply emissions calculations for 'Aux' and 'Transit' columns\n",
    "ais_dataset['Aux'] = ais_dataset.apply(calculate_emissions_aux, axis=1)\n"
   ]
  },
  {
   "cell_type": "code",
   "execution_count": 638,
   "metadata": {},
   "outputs": [],
   "source": [
    "ais_dataset['Aux_total'] = ais_dataset.groupby('imo')['Aux'].transform('sum')\n"
   ]
  },
  {
   "cell_type": "code",
   "execution_count": 639,
   "metadata": {},
   "outputs": [
    {
     "name": "stdout",
     "output_type": "stream",
     "text": [
      "0         6.868089e+07\n",
      "1         6.868089e+07\n",
      "2         6.868089e+07\n",
      "3         6.868089e+07\n",
      "4         6.868089e+07\n",
      "              ...     \n",
      "251764    1.313553e+08\n",
      "251765    1.313553e+08\n",
      "251766    1.313553e+08\n",
      "251767    1.313553e+08\n",
      "251768    1.313553e+08\n",
      "Name: Aux_total, Length: 248013, dtype: float64\n"
     ]
    }
   ],
   "source": [
    "print(ais_dataset['Aux_total'])\n"
   ]
  },
  {
   "cell_type": "code",
   "execution_count": 640,
   "metadata": {},
   "outputs": [],
   "source": [
    "def calculate_emissions_transit(row):\n",
    "    try:\n",
    "        if row['state'] != 'Transit':\n",
    "            return 0\n",
    "\n",
    "        IMO = row['imo']\n",
    "        transit_and_imo_condition = (ais_dataset['state'] == 'Transit') & (ais_dataset['imo'] == IMO)\n",
    "\n",
    "        speeds_in_transit = ais_dataset[transit_and_imo_condition]['speed']\n",
    "        if speeds_in_transit.empty:\n",
    "            return 0\n",
    "        \n",
    "        AVERAGE_SPEED = speeds_in_transit.mean()\n",
    "\n",
    "        max_speed_info = distance_dataset[distance_dataset['imo'] == IMO]\n",
    "        if max_speed_info.empty:\n",
    "            return 0\n",
    "        MAX_SPEED = max_speed_info['max_speed_kt'].values[0]\n",
    "\n",
    "        LF = (AVERAGE_SPEED / MAX_SPEED) ** 3\n",
    "\n",
    "        EF_SFME = row['ef_me']\n",
    "        P = row['p']\n",
    "\n",
    "        load_factor = f'{math.ceil(LF * 100)}%'\n",
    "        LLAF = llaf_table[llaf_table['Load'] == load_factor]\n",
    "\n",
    "        if LLAF.empty:\n",
    "            LLAF = 1\n",
    "        else:\n",
    "            LLAF = LLAF.iloc[0]['CO2']\n",
    "\n",
    "        emissions = P * LF * EF_SFME * LLAF\n",
    "        return emissions\n",
    "    except Exception as e:\n",
    "        print(f\"Error processing IMO {row['imo']}: {e}\")\n",
    "        return 0\n",
    "\n",
    "# Apply the function to the dataset and test it with print statements\n",
    "ais_dataset['Transit'] = ais_dataset.apply(calculate_emissions_transit, axis=1)"
   ]
  },
  {
   "cell_type": "code",
   "execution_count": 655,
   "metadata": {},
   "outputs": [],
   "source": [
    "\n",
    "a= llaf_table[llaf_table['Load'] == '2%']['CO2']\n"
   ]
  },
  {
   "cell_type": "code",
   "execution_count": 656,
   "metadata": {},
   "outputs": [
    {
     "data": {
      "text/html": [
       "<div>\n",
       "<style scoped>\n",
       "    .dataframe tbody tr th:only-of-type {\n",
       "        vertical-align: middle;\n",
       "    }\n",
       "\n",
       "    .dataframe tbody tr th {\n",
       "        vertical-align: top;\n",
       "    }\n",
       "\n",
       "    .dataframe thead th {\n",
       "        text-align: right;\n",
       "    }\n",
       "</style>\n",
       "<table border=\"1\" class=\"dataframe\">\n",
       "  <thead>\n",
       "    <tr style=\"text-align: right;\">\n",
       "      <th></th>\n",
       "      <th>imo</th>\n",
       "      <th>vessel_name</th>\n",
       "      <th>vessel_type</th>\n",
       "      <th>group</th>\n",
       "      <th>timestamp</th>\n",
       "      <th>lon</th>\n",
       "      <th>lat</th>\n",
       "      <th>nav_stat</th>\n",
       "      <th>speed</th>\n",
       "      <th>course</th>\n",
       "      <th>...</th>\n",
       "      <th>ael</th>\n",
       "      <th>abl</th>\n",
       "      <th>distance</th>\n",
       "      <th>state</th>\n",
       "      <th>ef_me</th>\n",
       "      <th>ef_ae</th>\n",
       "      <th>ef_ab</th>\n",
       "      <th>Aux</th>\n",
       "      <th>Aux_total</th>\n",
       "      <th>Transit</th>\n",
       "    </tr>\n",
       "  </thead>\n",
       "  <tbody>\n",
       "    <tr>\n",
       "      <th>0</th>\n",
       "      <td>9984730</td>\n",
       "      <td>SEACON ANTWERP</td>\n",
       "      <td>Bulk Carrier</td>\n",
       "      <td>Bulk Carrier</td>\n",
       "      <td>2024-07-28T00:23:32.000Z</td>\n",
       "      <td>104.029630</td>\n",
       "      <td>1.283717</td>\n",
       "      <td>0</td>\n",
       "      <td>0.0</td>\n",
       "      <td>3</td>\n",
       "      <td>...</td>\n",
       "      <td>316.0</td>\n",
       "      <td>138.0</td>\n",
       "      <td>6.221528</td>\n",
       "      <td>Transit</td>\n",
       "      <td>531.259192</td>\n",
       "      <td>664.789330</td>\n",
       "      <td>953.7867</td>\n",
       "      <td>341695.992848</td>\n",
       "      <td>6.868089e+07</td>\n",
       "      <td>194.234766</td>\n",
       "    </tr>\n",
       "    <tr>\n",
       "      <th>1</th>\n",
       "      <td>9984730</td>\n",
       "      <td>SEACON ANTWERP</td>\n",
       "      <td>Bulk Carrier</td>\n",
       "      <td>Bulk Carrier</td>\n",
       "      <td>2024-07-28T00:25:02.000Z</td>\n",
       "      <td>104.029755</td>\n",
       "      <td>1.285643</td>\n",
       "      <td>0</td>\n",
       "      <td>4.0</td>\n",
       "      <td>3</td>\n",
       "      <td>...</td>\n",
       "      <td>316.0</td>\n",
       "      <td>138.0</td>\n",
       "      <td>0.115910</td>\n",
       "      <td>Transit</td>\n",
       "      <td>531.259192</td>\n",
       "      <td>664.789330</td>\n",
       "      <td>953.7867</td>\n",
       "      <td>341695.992848</td>\n",
       "      <td>6.868089e+07</td>\n",
       "      <td>194.234766</td>\n",
       "    </tr>\n",
       "    <tr>\n",
       "      <th>2</th>\n",
       "      <td>9984730</td>\n",
       "      <td>SEACON ANTWERP</td>\n",
       "      <td>Bulk Carrier</td>\n",
       "      <td>Bulk Carrier</td>\n",
       "      <td>2024-07-28T00:30:01.000Z</td>\n",
       "      <td>104.029420</td>\n",
       "      <td>1.291690</td>\n",
       "      <td>0</td>\n",
       "      <td>4.0</td>\n",
       "      <td>342</td>\n",
       "      <td>...</td>\n",
       "      <td>316.0</td>\n",
       "      <td>138.0</td>\n",
       "      <td>0.363603</td>\n",
       "      <td>Transit</td>\n",
       "      <td>531.259192</td>\n",
       "      <td>664.789330</td>\n",
       "      <td>953.7867</td>\n",
       "      <td>341695.992848</td>\n",
       "      <td>6.868089e+07</td>\n",
       "      <td>194.234766</td>\n",
       "    </tr>\n",
       "    <tr>\n",
       "      <th>3</th>\n",
       "      <td>9984730</td>\n",
       "      <td>SEACON ANTWERP</td>\n",
       "      <td>Bulk Carrier</td>\n",
       "      <td>Bulk Carrier</td>\n",
       "      <td>2024-07-28T00:32:51.000Z</td>\n",
       "      <td>104.028160</td>\n",
       "      <td>1.294758</td>\n",
       "      <td>0</td>\n",
       "      <td>4.0</td>\n",
       "      <td>328</td>\n",
       "      <td>...</td>\n",
       "      <td>316.0</td>\n",
       "      <td>138.0</td>\n",
       "      <td>0.199119</td>\n",
       "      <td>Transit</td>\n",
       "      <td>531.259192</td>\n",
       "      <td>664.789330</td>\n",
       "      <td>953.7867</td>\n",
       "      <td>341695.992848</td>\n",
       "      <td>6.868089e+07</td>\n",
       "      <td>194.234766</td>\n",
       "    </tr>\n",
       "    <tr>\n",
       "      <th>4</th>\n",
       "      <td>9984730</td>\n",
       "      <td>SEACON ANTWERP</td>\n",
       "      <td>Bulk Carrier</td>\n",
       "      <td>Bulk Carrier</td>\n",
       "      <td>2024-07-28T00:35:02.000Z</td>\n",
       "      <td>104.026474</td>\n",
       "      <td>1.296387</td>\n",
       "      <td>0</td>\n",
       "      <td>3.0</td>\n",
       "      <td>304</td>\n",
       "      <td>...</td>\n",
       "      <td>316.0</td>\n",
       "      <td>138.0</td>\n",
       "      <td>0.140720</td>\n",
       "      <td>Transit</td>\n",
       "      <td>531.259192</td>\n",
       "      <td>664.789330</td>\n",
       "      <td>953.7867</td>\n",
       "      <td>341695.992848</td>\n",
       "      <td>6.868089e+07</td>\n",
       "      <td>194.234766</td>\n",
       "    </tr>\n",
       "    <tr>\n",
       "      <th>...</th>\n",
       "      <td>...</td>\n",
       "      <td>...</td>\n",
       "      <td>...</td>\n",
       "      <td>...</td>\n",
       "      <td>...</td>\n",
       "      <td>...</td>\n",
       "      <td>...</td>\n",
       "      <td>...</td>\n",
       "      <td>...</td>\n",
       "      <td>...</td>\n",
       "      <td>...</td>\n",
       "      <td>...</td>\n",
       "      <td>...</td>\n",
       "      <td>...</td>\n",
       "      <td>...</td>\n",
       "      <td>...</td>\n",
       "      <td>...</td>\n",
       "      <td>...</td>\n",
       "      <td>...</td>\n",
       "      <td>...</td>\n",
       "      <td>...</td>\n",
       "    </tr>\n",
       "    <tr>\n",
       "      <th>251764</th>\n",
       "      <td>9739953</td>\n",
       "      <td>PACIFIC QINGDAO</td>\n",
       "      <td>LPG Tanker</td>\n",
       "      <td>LPG Tanker</td>\n",
       "      <td>2024-07-09T21:41:15.000Z</td>\n",
       "      <td>103.684640</td>\n",
       "      <td>1.188230</td>\n",
       "      <td>0</td>\n",
       "      <td>2.0</td>\n",
       "      <td>256</td>\n",
       "      <td>...</td>\n",
       "      <td>536.0</td>\n",
       "      <td>367.0</td>\n",
       "      <td>0.053041</td>\n",
       "      <td>Transit</td>\n",
       "      <td>525.504679</td>\n",
       "      <td>650.482529</td>\n",
       "      <td>953.7867</td>\n",
       "      <td>698698.354658</td>\n",
       "      <td>1.313553e+08</td>\n",
       "      <td>28811.330075</td>\n",
       "    </tr>\n",
       "    <tr>\n",
       "      <th>251765</th>\n",
       "      <td>9739953</td>\n",
       "      <td>PACIFIC QINGDAO</td>\n",
       "      <td>LPG Tanker</td>\n",
       "      <td>LPG Tanker</td>\n",
       "      <td>2024-07-09T21:45:04.000Z</td>\n",
       "      <td>103.681130</td>\n",
       "      <td>1.187597</td>\n",
       "      <td>0</td>\n",
       "      <td>3.0</td>\n",
       "      <td>264</td>\n",
       "      <td>...</td>\n",
       "      <td>536.0</td>\n",
       "      <td>367.0</td>\n",
       "      <td>0.214073</td>\n",
       "      <td>Transit</td>\n",
       "      <td>525.504679</td>\n",
       "      <td>650.482529</td>\n",
       "      <td>953.7867</td>\n",
       "      <td>698698.354658</td>\n",
       "      <td>1.313553e+08</td>\n",
       "      <td>28811.330075</td>\n",
       "    </tr>\n",
       "    <tr>\n",
       "      <th>251766</th>\n",
       "      <td>9739953</td>\n",
       "      <td>PACIFIC QINGDAO</td>\n",
       "      <td>LPG Tanker</td>\n",
       "      <td>LPG Tanker</td>\n",
       "      <td>2024-07-09T21:45:37.000Z</td>\n",
       "      <td>103.681800</td>\n",
       "      <td>1.187628</td>\n",
       "      <td>0</td>\n",
       "      <td>3.0</td>\n",
       "      <td>267</td>\n",
       "      <td>...</td>\n",
       "      <td>536.0</td>\n",
       "      <td>367.0</td>\n",
       "      <td>0.040347</td>\n",
       "      <td>Transit</td>\n",
       "      <td>525.504679</td>\n",
       "      <td>650.482529</td>\n",
       "      <td>953.7867</td>\n",
       "      <td>698698.354658</td>\n",
       "      <td>1.313553e+08</td>\n",
       "      <td>28811.330075</td>\n",
       "    </tr>\n",
       "    <tr>\n",
       "      <th>251767</th>\n",
       "      <td>9739953</td>\n",
       "      <td>PACIFIC QINGDAO</td>\n",
       "      <td>LPG Tanker</td>\n",
       "      <td>LPG Tanker</td>\n",
       "      <td>2024-07-09T21:50:03.000Z</td>\n",
       "      <td>103.673874</td>\n",
       "      <td>1.188243</td>\n",
       "      <td>0</td>\n",
       "      <td>6.0</td>\n",
       "      <td>280</td>\n",
       "      <td>...</td>\n",
       "      <td>536.0</td>\n",
       "      <td>367.0</td>\n",
       "      <td>0.477266</td>\n",
       "      <td>Transit</td>\n",
       "      <td>525.504679</td>\n",
       "      <td>650.482529</td>\n",
       "      <td>953.7867</td>\n",
       "      <td>698698.354658</td>\n",
       "      <td>1.313553e+08</td>\n",
       "      <td>28811.330075</td>\n",
       "    </tr>\n",
       "    <tr>\n",
       "      <th>251768</th>\n",
       "      <td>9739953</td>\n",
       "      <td>PACIFIC QINGDAO</td>\n",
       "      <td>LPG Tanker</td>\n",
       "      <td>LPG Tanker</td>\n",
       "      <td>2024-07-09T21:51:22.000Z</td>\n",
       "      <td>103.673620</td>\n",
       "      <td>1.188292</td>\n",
       "      <td>0</td>\n",
       "      <td>6.0</td>\n",
       "      <td>280</td>\n",
       "      <td>...</td>\n",
       "      <td>536.0</td>\n",
       "      <td>367.0</td>\n",
       "      <td>0.015389</td>\n",
       "      <td>Transit</td>\n",
       "      <td>525.504679</td>\n",
       "      <td>650.482529</td>\n",
       "      <td>953.7867</td>\n",
       "      <td>698698.354658</td>\n",
       "      <td>1.313553e+08</td>\n",
       "      <td>28811.330075</td>\n",
       "    </tr>\n",
       "  </tbody>\n",
       "</table>\n",
       "<p>248013 rows × 31 columns</p>\n",
       "</div>"
      ],
      "text/plain": [
       "            imo      vessel_name   vessel_type         group  \\\n",
       "0       9984730   SEACON ANTWERP  Bulk Carrier  Bulk Carrier   \n",
       "1       9984730   SEACON ANTWERP  Bulk Carrier  Bulk Carrier   \n",
       "2       9984730   SEACON ANTWERP  Bulk Carrier  Bulk Carrier   \n",
       "3       9984730   SEACON ANTWERP  Bulk Carrier  Bulk Carrier   \n",
       "4       9984730   SEACON ANTWERP  Bulk Carrier  Bulk Carrier   \n",
       "...         ...              ...           ...           ...   \n",
       "251764  9739953  PACIFIC QINGDAO    LPG Tanker    LPG Tanker   \n",
       "251765  9739953  PACIFIC QINGDAO    LPG Tanker    LPG Tanker   \n",
       "251766  9739953  PACIFIC QINGDAO    LPG Tanker    LPG Tanker   \n",
       "251767  9739953  PACIFIC QINGDAO    LPG Tanker    LPG Tanker   \n",
       "251768  9739953  PACIFIC QINGDAO    LPG Tanker    LPG Tanker   \n",
       "\n",
       "                       timestamp         lon       lat  nav_stat  speed  \\\n",
       "0       2024-07-28T00:23:32.000Z  104.029630  1.283717         0    0.0   \n",
       "1       2024-07-28T00:25:02.000Z  104.029755  1.285643         0    4.0   \n",
       "2       2024-07-28T00:30:01.000Z  104.029420  1.291690         0    4.0   \n",
       "3       2024-07-28T00:32:51.000Z  104.028160  1.294758         0    4.0   \n",
       "4       2024-07-28T00:35:02.000Z  104.026474  1.296387         0    3.0   \n",
       "...                          ...         ...       ...       ...    ...   \n",
       "251764  2024-07-09T21:41:15.000Z  103.684640  1.188230         0    2.0   \n",
       "251765  2024-07-09T21:45:04.000Z  103.681130  1.187597         0    3.0   \n",
       "251766  2024-07-09T21:45:37.000Z  103.681800  1.187628         0    3.0   \n",
       "251767  2024-07-09T21:50:03.000Z  103.673874  1.188243         0    6.0   \n",
       "251768  2024-07-09T21:51:22.000Z  103.673620  1.188292         0    6.0   \n",
       "\n",
       "        course  ...    ael    abl  distance    state       ef_me       ef_ae  \\\n",
       "0            3  ...  316.0  138.0  6.221528  Transit  531.259192  664.789330   \n",
       "1            3  ...  316.0  138.0  0.115910  Transit  531.259192  664.789330   \n",
       "2          342  ...  316.0  138.0  0.363603  Transit  531.259192  664.789330   \n",
       "3          328  ...  316.0  138.0  0.199119  Transit  531.259192  664.789330   \n",
       "4          304  ...  316.0  138.0  0.140720  Transit  531.259192  664.789330   \n",
       "...        ...  ...    ...    ...       ...      ...         ...         ...   \n",
       "251764     256  ...  536.0  367.0  0.053041  Transit  525.504679  650.482529   \n",
       "251765     264  ...  536.0  367.0  0.214073  Transit  525.504679  650.482529   \n",
       "251766     267  ...  536.0  367.0  0.040347  Transit  525.504679  650.482529   \n",
       "251767     280  ...  536.0  367.0  0.477266  Transit  525.504679  650.482529   \n",
       "251768     280  ...  536.0  367.0  0.015389  Transit  525.504679  650.482529   \n",
       "\n",
       "           ef_ab            Aux     Aux_total       Transit  \n",
       "0       953.7867  341695.992848  6.868089e+07    194.234766  \n",
       "1       953.7867  341695.992848  6.868089e+07    194.234766  \n",
       "2       953.7867  341695.992848  6.868089e+07    194.234766  \n",
       "3       953.7867  341695.992848  6.868089e+07    194.234766  \n",
       "4       953.7867  341695.992848  6.868089e+07    194.234766  \n",
       "...          ...            ...           ...           ...  \n",
       "251764  953.7867  698698.354658  1.313553e+08  28811.330075  \n",
       "251765  953.7867  698698.354658  1.313553e+08  28811.330075  \n",
       "251766  953.7867  698698.354658  1.313553e+08  28811.330075  \n",
       "251767  953.7867  698698.354658  1.313553e+08  28811.330075  \n",
       "251768  953.7867  698698.354658  1.313553e+08  28811.330075  \n",
       "\n",
       "[248013 rows x 31 columns]"
      ]
     },
     "execution_count": 656,
     "metadata": {},
     "output_type": "execute_result"
    }
   ],
   "source": [
    "df = ais_dataset.copy()\n",
    "df"
   ]
  },
  {
   "cell_type": "code",
   "execution_count": 657,
   "metadata": {},
   "outputs": [
    {
     "data": {
      "text/plain": [
       "0        1.03305\n",
       "1       40.91723\n",
       "2        0.17945\n",
       "3       40.25527\n",
       "4       11.19112\n",
       "          ...   \n",
       "4161    21.01139\n",
       "4162    15.31195\n",
       "4163     0.50778\n",
       "4164    19.06416\n",
       "4165    33.62556\n",
       "Name: Total Anchor, Length: 4166, dtype: float64"
      ]
     },
     "execution_count": 657,
     "metadata": {},
     "output_type": "execute_result"
    }
   ],
   "source": [
    "grouped_df_aux = df.groupby(by='imo')['Aux'].sum()\n",
    "port_call_dataset['Total Anchor'] = port_call_dataset.apply(lambda row: row['SG Anchor'] + row['Prev Anchor'] + row['Next Anchor'] , axis=1)\n",
    "port_call_dataset['Total Anchor']"
   ]
  },
  {
   "cell_type": "code",
   "execution_count": 658,
   "metadata": {},
   "outputs": [],
   "source": [
    "merged_df_aux = pd.merge(grouped_df_aux , port_call_dataset[['imo' , 'Total Anchor']] , how='inner' , on='imo')\n",
    "merged_df_aux = merged_df_aux['Aux'] * merged_df_aux['Total Anchor']"
   ]
  },
  {
   "cell_type": "code",
   "execution_count": 659,
   "metadata": {},
   "outputs": [
    {
     "data": {
      "text/plain": [
       "3571233126960.708"
      ]
     },
     "execution_count": 659,
     "metadata": {},
     "output_type": "execute_result"
    }
   ],
   "source": [
    "merged_df_aux.sum()"
   ]
  },
  {
   "cell_type": "code",
   "execution_count": 660,
   "metadata": {},
   "outputs": [],
   "source": [
    "grouped_df_transit = df[df['state'] == 'Transit']\n",
    "grouped_df_transit = grouped_df_transit.groupby(by='imo')[['Aux' , 'Transit']].sum()\n"
   ]
  },
  {
   "cell_type": "code",
   "execution_count": 661,
   "metadata": {},
   "outputs": [
    {
     "data": {
      "text/plain": [
       "0         0.37611\n",
       "1         1.87639\n",
       "2        94.41195\n",
       "3       192.13361\n",
       "4        31.28917\n",
       "          ...    \n",
       "4161      3.93917\n",
       "4162      4.16834\n",
       "4163     80.27611\n",
       "4164      9.90111\n",
       "4165      2.69194\n",
       "Name: Total Transit, Length: 4166, dtype: float64"
      ]
     },
     "execution_count": 661,
     "metadata": {},
     "output_type": "execute_result"
    }
   ],
   "source": [
    "\n",
    "port_call_dataset['Total Transit'] = port_call_dataset.apply(lambda row: row['Prev to SG Transit'] + row['SG to Next Transit'] , axis=1)\n",
    "port_call_dataset['Total Transit']"
   ]
  },
  {
   "cell_type": "code",
   "execution_count": null,
   "metadata": {},
   "outputs": [
    {
     "data": {
      "text/html": [
       "<div>\n",
       "<style scoped>\n",
       "    .dataframe tbody tr th:only-of-type {\n",
       "        vertical-align: middle;\n",
       "    }\n",
       "\n",
       "    .dataframe tbody tr th {\n",
       "        vertical-align: top;\n",
       "    }\n",
       "\n",
       "    .dataframe thead th {\n",
       "        text-align: right;\n",
       "    }\n",
       "</style>\n",
       "<table border=\"1\" class=\"dataframe\">\n",
       "  <thead>\n",
       "    <tr style=\"text-align: right;\">\n",
       "      <th></th>\n",
       "      <th>imo</th>\n",
       "      <th>Aux</th>\n",
       "      <th>Transit</th>\n",
       "      <th>Total Transit</th>\n",
       "    </tr>\n",
       "  </thead>\n",
       "  <tbody>\n",
       "    <tr>\n",
       "      <th>0</th>\n",
       "      <td>1013327</td>\n",
       "      <td>1.357429e+06</td>\n",
       "      <td>2.661224e+05</td>\n",
       "      <td>0.37611</td>\n",
       "    </tr>\n",
       "    <tr>\n",
       "      <th>1</th>\n",
       "      <td>1014838</td>\n",
       "      <td>7.053960e+06</td>\n",
       "      <td>2.239151e+05</td>\n",
       "      <td>3.57945</td>\n",
       "    </tr>\n",
       "    <tr>\n",
       "      <th>2</th>\n",
       "      <td>1015820</td>\n",
       "      <td>4.756757e+06</td>\n",
       "      <td>4.473113e+03</td>\n",
       "      <td>1.87639</td>\n",
       "    </tr>\n",
       "    <tr>\n",
       "      <th>3</th>\n",
       "      <td>1017775</td>\n",
       "      <td>9.051436e+05</td>\n",
       "      <td>0.000000e+00</td>\n",
       "      <td>1.84056</td>\n",
       "    </tr>\n",
       "    <tr>\n",
       "      <th>4</th>\n",
       "      <td>1018547</td>\n",
       "      <td>2.160499e+07</td>\n",
       "      <td>1.963012e+06</td>\n",
       "      <td>298.82056</td>\n",
       "    </tr>\n",
       "    <tr>\n",
       "      <th>...</th>\n",
       "      <td>...</td>\n",
       "      <td>...</td>\n",
       "      <td>...</td>\n",
       "      <td>...</td>\n",
       "    </tr>\n",
       "    <tr>\n",
       "      <th>2191</th>\n",
       "      <td>9991082</td>\n",
       "      <td>6.823390e+05</td>\n",
       "      <td>5.656263e+05</td>\n",
       "      <td>2.81945</td>\n",
       "    </tr>\n",
       "    <tr>\n",
       "      <th>2192</th>\n",
       "      <td>9991109</td>\n",
       "      <td>1.266088e+07</td>\n",
       "      <td>0.000000e+00</td>\n",
       "      <td>3.93917</td>\n",
       "    </tr>\n",
       "    <tr>\n",
       "      <th>2193</th>\n",
       "      <td>9991252</td>\n",
       "      <td>1.384008e+06</td>\n",
       "      <td>6.004896e+04</td>\n",
       "      <td>4.16834</td>\n",
       "    </tr>\n",
       "    <tr>\n",
       "      <th>2194</th>\n",
       "      <td>9994917</td>\n",
       "      <td>2.031756e+06</td>\n",
       "      <td>3.813852e+05</td>\n",
       "      <td>80.27611</td>\n",
       "    </tr>\n",
       "    <tr>\n",
       "      <th>2195</th>\n",
       "      <td>9996795</td>\n",
       "      <td>0.000000e+00</td>\n",
       "      <td>0.000000e+00</td>\n",
       "      <td>2.69194</td>\n",
       "    </tr>\n",
       "  </tbody>\n",
       "</table>\n",
       "<p>2196 rows × 4 columns</p>\n",
       "</div>"
      ],
      "text/plain": [
       "          imo           Aux       Transit  Total Transit\n",
       "0     1013327  1.357429e+06  2.661224e+05        0.37611\n",
       "1     1014838  7.053960e+06  2.239151e+05        3.57945\n",
       "2     1015820  4.756757e+06  4.473113e+03        1.87639\n",
       "3     1017775  9.051436e+05  0.000000e+00        1.84056\n",
       "4     1018547  2.160499e+07  1.963012e+06      298.82056\n",
       "...       ...           ...           ...            ...\n",
       "2191  9991082  6.823390e+05  5.656263e+05        2.81945\n",
       "2192  9991109  1.266088e+07  0.000000e+00        3.93917\n",
       "2193  9991252  1.384008e+06  6.004896e+04        4.16834\n",
       "2194  9994917  2.031756e+06  3.813852e+05       80.27611\n",
       "2195  9996795  0.000000e+00  0.000000e+00        2.69194\n",
       "\n",
       "[2196 rows x 4 columns]"
      ]
     },
     "execution_count": 662,
     "metadata": {},
     "output_type": "execute_result"
    }
   ],
   "source": [
    "\n",
    "merged_df_transit = pd.merge(grouped_df_transit , port_call_dataset[['imo' , 'Total Transit']] , on='imo' , how='inner')\n",
    "merged_df_transit\n"
   ]
  },
  {
   "cell_type": "code",
   "execution_count": 663,
   "metadata": {},
   "outputs": [
    {
     "data": {
      "text/plain": [
       "5891226742146.073"
      ]
     },
     "execution_count": 663,
     "metadata": {},
     "output_type": "execute_result"
    }
   ],
   "source": [
    "total_transit = (merged_df_transit['Aux'] + merged_df_transit['Transit']) * merged_df_transit['Total Transit']\n",
    "total_transit.sum()"
   ]
  },
  {
   "cell_type": "markdown",
   "metadata": {},
   "source": [
    "### Propose a 5% reduction in timing"
   ]
  },
  {
   "cell_type": "code",
   "execution_count": 664,
   "metadata": {},
   "outputs": [],
   "source": [
    "port_call_dataset['Total Anchor'] = port_call_dataset['Total Anchor'] * 0.95\n",
    "port_call_dataset['Total Transit'] = port_call_dataset['Total Transit'] * 0.95"
   ]
  },
  {
   "cell_type": "code",
   "execution_count": 665,
   "metadata": {},
   "outputs": [],
   "source": [
    "grouped_df_aux = df.groupby(by='imo')['Aux'].sum()"
   ]
  },
  {
   "cell_type": "code",
   "execution_count": 666,
   "metadata": {},
   "outputs": [],
   "source": [
    "merged_df_aux = pd.merge(grouped_df_aux , port_call_dataset[['imo' , 'Total Anchor']] , how='inner' , on='imo')\n",
    "merged_df_aux = merged_df_aux['Aux'] * merged_df_aux['Total Anchor']"
   ]
  },
  {
   "cell_type": "code",
   "execution_count": 667,
   "metadata": {},
   "outputs": [
    {
     "data": {
      "text/plain": [
       "3392671470612.673"
      ]
     },
     "execution_count": 667,
     "metadata": {},
     "output_type": "execute_result"
    }
   ],
   "source": [
    "merged_df_aux.sum()"
   ]
  },
  {
   "cell_type": "code",
   "execution_count": 668,
   "metadata": {},
   "outputs": [],
   "source": [
    "grouped_df_transit = df[df['state'] == 'Transit']\n",
    "grouped_df_transit = grouped_df_transit.groupby(by='imo')[['Aux' , 'Transit']].sum()"
   ]
  },
  {
   "cell_type": "code",
   "execution_count": 669,
   "metadata": {},
   "outputs": [
    {
     "data": {
      "text/html": [
       "<div>\n",
       "<style scoped>\n",
       "    .dataframe tbody tr th:only-of-type {\n",
       "        vertical-align: middle;\n",
       "    }\n",
       "\n",
       "    .dataframe tbody tr th {\n",
       "        vertical-align: top;\n",
       "    }\n",
       "\n",
       "    .dataframe thead th {\n",
       "        text-align: right;\n",
       "    }\n",
       "</style>\n",
       "<table border=\"1\" class=\"dataframe\">\n",
       "  <thead>\n",
       "    <tr style=\"text-align: right;\">\n",
       "      <th></th>\n",
       "      <th>imo</th>\n",
       "      <th>Aux</th>\n",
       "      <th>Transit</th>\n",
       "      <th>Total Transit</th>\n",
       "    </tr>\n",
       "  </thead>\n",
       "  <tbody>\n",
       "    <tr>\n",
       "      <th>0</th>\n",
       "      <td>1013327</td>\n",
       "      <td>1.357429e+06</td>\n",
       "      <td>2.661224e+05</td>\n",
       "      <td>0.357304</td>\n",
       "    </tr>\n",
       "    <tr>\n",
       "      <th>1</th>\n",
       "      <td>1014838</td>\n",
       "      <td>7.053960e+06</td>\n",
       "      <td>2.239151e+05</td>\n",
       "      <td>3.400478</td>\n",
       "    </tr>\n",
       "    <tr>\n",
       "      <th>2</th>\n",
       "      <td>1015820</td>\n",
       "      <td>4.756757e+06</td>\n",
       "      <td>4.473113e+03</td>\n",
       "      <td>1.782570</td>\n",
       "    </tr>\n",
       "    <tr>\n",
       "      <th>3</th>\n",
       "      <td>1017775</td>\n",
       "      <td>9.051436e+05</td>\n",
       "      <td>0.000000e+00</td>\n",
       "      <td>1.748532</td>\n",
       "    </tr>\n",
       "    <tr>\n",
       "      <th>4</th>\n",
       "      <td>1018547</td>\n",
       "      <td>2.160499e+07</td>\n",
       "      <td>1.963012e+06</td>\n",
       "      <td>283.879532</td>\n",
       "    </tr>\n",
       "    <tr>\n",
       "      <th>...</th>\n",
       "      <td>...</td>\n",
       "      <td>...</td>\n",
       "      <td>...</td>\n",
       "      <td>...</td>\n",
       "    </tr>\n",
       "    <tr>\n",
       "      <th>2191</th>\n",
       "      <td>9991082</td>\n",
       "      <td>6.823390e+05</td>\n",
       "      <td>5.656263e+05</td>\n",
       "      <td>2.678477</td>\n",
       "    </tr>\n",
       "    <tr>\n",
       "      <th>2192</th>\n",
       "      <td>9991109</td>\n",
       "      <td>1.266088e+07</td>\n",
       "      <td>0.000000e+00</td>\n",
       "      <td>3.742211</td>\n",
       "    </tr>\n",
       "    <tr>\n",
       "      <th>2193</th>\n",
       "      <td>9991252</td>\n",
       "      <td>1.384008e+06</td>\n",
       "      <td>6.004896e+04</td>\n",
       "      <td>3.959923</td>\n",
       "    </tr>\n",
       "    <tr>\n",
       "      <th>2194</th>\n",
       "      <td>9994917</td>\n",
       "      <td>2.031756e+06</td>\n",
       "      <td>3.813852e+05</td>\n",
       "      <td>76.262304</td>\n",
       "    </tr>\n",
       "    <tr>\n",
       "      <th>2195</th>\n",
       "      <td>9996795</td>\n",
       "      <td>0.000000e+00</td>\n",
       "      <td>0.000000e+00</td>\n",
       "      <td>2.557343</td>\n",
       "    </tr>\n",
       "  </tbody>\n",
       "</table>\n",
       "<p>2196 rows × 4 columns</p>\n",
       "</div>"
      ],
      "text/plain": [
       "          imo           Aux       Transit  Total Transit\n",
       "0     1013327  1.357429e+06  2.661224e+05       0.357304\n",
       "1     1014838  7.053960e+06  2.239151e+05       3.400478\n",
       "2     1015820  4.756757e+06  4.473113e+03       1.782570\n",
       "3     1017775  9.051436e+05  0.000000e+00       1.748532\n",
       "4     1018547  2.160499e+07  1.963012e+06     283.879532\n",
       "...       ...           ...           ...            ...\n",
       "2191  9991082  6.823390e+05  5.656263e+05       2.678477\n",
       "2192  9991109  1.266088e+07  0.000000e+00       3.742211\n",
       "2193  9991252  1.384008e+06  6.004896e+04       3.959923\n",
       "2194  9994917  2.031756e+06  3.813852e+05      76.262304\n",
       "2195  9996795  0.000000e+00  0.000000e+00       2.557343\n",
       "\n",
       "[2196 rows x 4 columns]"
      ]
     },
     "execution_count": 669,
     "metadata": {},
     "output_type": "execute_result"
    }
   ],
   "source": [
    "\n",
    "merged_df_transit = pd.merge(grouped_df_transit , port_call_dataset[['imo' , 'Total Transit']] , on='imo' , how='inner')\n",
    "merged_df_transit\n"
   ]
  },
  {
   "cell_type": "code",
   "execution_count": 670,
   "metadata": {},
   "outputs": [
    {
     "data": {
      "text/plain": [
       "5596665405038.77"
      ]
     },
     "execution_count": 670,
     "metadata": {},
     "output_type": "execute_result"
    }
   ],
   "source": [
    "\n",
    "total_transit = (merged_df_transit['Aux'] + merged_df_transit['Transit']) * merged_df_transit['Total Transit']\n",
    "total_transit.sum()"
   ]
  },
  {
   "cell_type": "code",
   "execution_count": null,
   "metadata": {},
   "outputs": [],
   "source": []
  }
 ],
 "metadata": {
  "kernelspec": {
   "display_name": "base",
   "language": "python",
   "name": "python3"
  },
  "language_info": {
   "codemirror_mode": {
    "name": "ipython",
    "version": 3
   },
   "file_extension": ".py",
   "mimetype": "text/x-python",
   "name": "python",
   "nbconvert_exporter": "python",
   "pygments_lexer": "ipython3",
   "version": "3.12.4"
  }
 },
 "nbformat": 4,
 "nbformat_minor": 2
}
