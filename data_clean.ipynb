{
 "cells": [
  {
   "cell_type": "code",
   "execution_count": 527,
   "metadata": {},
   "outputs": [],
   "source": [
    "import pandas as pd\n",
    "import matplotlib.pyplot as plt\n",
    "import numpy as np\n",
    "from datetime import datetime as dt\n",
    "import math\n",
    "import warnings\n",
    "import matplotlib.pyplot as plt\n",
    "warnings.filterwarnings('ignore')"
   ]
  },
  {
   "cell_type": "code",
   "execution_count": 528,
   "metadata": {},
   "outputs": [
    {
     "name": "stdout",
     "output_type": "stream",
     "text": [
      "2543\n",
      "4166\n",
      "<class 'pandas.core.frame.DataFrame'>\n",
      "RangeIndex: 251769 entries, 0 to 251768\n",
      "Data columns (total 30 columns):\n",
      " #   Column                 Non-Null Count   Dtype  \n",
      "---  ------                 --------------   -----  \n",
      " 0   imo                    251769 non-null  int64  \n",
      " 1   mmsi                   251769 non-null  int64  \n",
      " 2   vessel_name            251769 non-null  object \n",
      " 3   date_of_build          251769 non-null  object \n",
      " 4   vessel_type            251769 non-null  object \n",
      " 5   group                  251769 non-null  object \n",
      " 6   timestamp              251769 non-null  object \n",
      " 7   lon                    251769 non-null  float64\n",
      " 8   lat                    251769 non-null  float64\n",
      " 9   nav_stat               251769 non-null  int64  \n",
      " 10  speed                  249752 non-null  float64\n",
      " 11  course                 251769 non-null  int64  \n",
      " 12  heading                250464 non-null  float64\n",
      " 13  fuel_category          251769 non-null  int64  \n",
      " 14  main_engine_fuel_type  251769 non-null  object \n",
      " 15  aux_engine_fuel_type   251769 non-null  object \n",
      " 16  engine_type            251334 non-null  object \n",
      " 17  berth                  0 non-null       float64\n",
      " 18  port_name              251769 non-null  object \n",
      " 19  anchorage              249656 non-null  object \n",
      " 20  terminal               0 non-null       float64\n",
      " 21  maneuvering_zone       0 non-null       float64\n",
      " 22  p                      251318 non-null  float64\n",
      " 23  vref                   250087 non-null  float64\n",
      " 24  sfc_me                 251334 non-null  float64\n",
      " 25  sfc_ae                 251334 non-null  float64\n",
      " 26  sfc_ab                 251769 non-null  float64\n",
      " 27  ael                    251769 non-null  float64\n",
      " 28  abl                    251769 non-null  float64\n",
      " 29  distance               251769 non-null  float64\n",
      "dtypes: float64(15), int64(5), object(10)\n",
      "memory usage: 57.6+ MB\n",
      "None\n",
      "<class 'pandas.core.frame.DataFrame'>\n",
      "RangeIndex: 4166 entries, 0 to 4165\n",
      "Data columns (total 22 columns):\n",
      " #   Column                                Non-Null Count  Dtype \n",
      "---  ------                                --------------  ----- \n",
      " 0   current_snapshot_date_utc             4166 non-null   object\n",
      " 1   imo                                   4166 non-null   int64 \n",
      " 2   current_port_name                     4166 non-null   object\n",
      " 3   current_port_country_name             4166 non-null   object\n",
      " 4   current_earliest_visit_time_utc       4166 non-null   object\n",
      " 5   current_latest_visit_time_utc         4166 non-null   object\n",
      " 6   current_zone_polygon_name             4166 non-null   object\n",
      " 7   current_zone_type                     4166 non-null   object\n",
      " 8   next_port_name                        4047 non-null   object\n",
      " 9   next_country_name                     4047 non-null   object\n",
      " 10  next_country_earliest_visit_time_utc  4047 non-null   object\n",
      " 11  next_country_latest_visit_time_utc    4047 non-null   object\n",
      " 12  next_zone_polygon_name                3940 non-null   object\n",
      " 13  next_snapshot_date                    4047 non-null   object\n",
      " 14  next_zone_type                        3940 non-null   object\n",
      " 15  prev_port_name                        4166 non-null   object\n",
      " 16  prev_country_name                     4166 non-null   object\n",
      " 17  prev_country_earliest_visit_time_utc  4166 non-null   object\n",
      " 18  prev_country_latest_visit_time_utc    4166 non-null   object\n",
      " 19  prev_zone_polygon_name                4100 non-null   object\n",
      " 20  prev_snapshot_date                    4166 non-null   object\n",
      " 21  prev_zone_type                        4100 non-null   object\n",
      "dtypes: int64(1), object(21)\n",
      "memory usage: 716.2+ KB\n",
      "None\n",
      "<class 'pandas.core.frame.DataFrame'>\n",
      "RangeIndex: 12553 entries, 0 to 12552\n",
      "Data columns (total 7 columns):\n",
      " #   Column             Non-Null Count  Dtype  \n",
      "---  ------             --------------  -----  \n",
      " 0   snapshot_date_utc  12553 non-null  object \n",
      " 1   imo                12553 non-null  int64  \n",
      " 2   distance_nm        12553 non-null  float64\n",
      " 3   duration_minutes   12553 non-null  float64\n",
      " 4   avg_speed_kt       12553 non-null  float64\n",
      " 5   min_speed_kt       12553 non-null  float64\n",
      " 6   max_speed_kt       12553 non-null  float64\n",
      "dtypes: float64(5), int64(1), object(1)\n",
      "memory usage: 686.6+ KB\n",
      "None\n"
     ]
    }
   ],
   "source": [
    "ais_dataset = pd.read_csv('./datasets/ais_dataset.csv')\n",
    "port_call_dataset = pd.read_csv('./datasets/port_call_dataset.csv')\n",
    "distance_dataset = pd.read_csv('./datasets/distance_dataset.csv')\n",
    "llaf_table = pd.read_csv('./datasets/llaf_table.csv')\n",
    "\n",
    "\n",
    "\n",
    "\n",
    "print(len(ais_dataset['imo'].unique()))\n",
    "print(len(port_call_dataset['imo'].unique()))\n",
    "print(ais_dataset.info())\n",
    "print(port_call_dataset.info())\n",
    "print(distance_dataset.info())\n",
    "# no terminal, maneuvering , berth\n",
    "# suggests that only anchored and transit\n",
    "# we can simply find if anchored or not"
   ]
  },
  {
   "cell_type": "markdown",
   "metadata": {},
   "source": [
    "### Dropping Columns\n",
    "---"
   ]
  },
  {
   "cell_type": "markdown",
   "metadata": {},
   "source": [
    "##### AIS"
   ]
  },
  {
   "cell_type": "code",
   "execution_count": 529,
   "metadata": {},
   "outputs": [],
   "source": [
    "# dropping missing values\n",
    "ais_dataset.drop(columns=['berth' , 'terminal' , 'maneuvering_zone'] , inplace=True)\n",
    "# ais_dataset.dropna(inplace=True) # 《 5% missing data"
   ]
  },
  {
   "cell_type": "code",
   "execution_count": 530,
   "metadata": {},
   "outputs": [],
   "source": [
    "# From background research cum provided information\n",
    "# ABL AEL !== 0\n",
    "# drop meta data:\n",
    "# port_name , mmsi (cannot be used since other datasets only have imo) , date_of_build\n",
    "useless_columns = ['port_name' , 'mmsi' , 'date_of_build']\n",
    "ais_dataset.drop(columns=useless_columns , inplace=True)"
   ]
  },
  {
   "cell_type": "code",
   "execution_count": 531,
   "metadata": {},
   "outputs": [],
   "source": [
    "abl_ael_not_zero_condition = (ais_dataset['abl'] > 0) & (ais_dataset['ael'] > 0)\n",
    "ais_dataset = ais_dataset[abl_ael_not_zero_condition]"
   ]
  },
  {
   "cell_type": "code",
   "execution_count": 532,
   "metadata": {},
   "outputs": [
    {
     "name": "stdout",
     "output_type": "stream",
     "text": [
      "<class 'pandas.core.frame.DataFrame'>\n",
      "Index: 248013 entries, 0 to 251768\n",
      "Data columns (total 24 columns):\n",
      " #   Column                 Non-Null Count   Dtype  \n",
      "---  ------                 --------------   -----  \n",
      " 0   imo                    248013 non-null  int64  \n",
      " 1   vessel_name            248013 non-null  object \n",
      " 2   vessel_type            248013 non-null  object \n",
      " 3   group                  248013 non-null  object \n",
      " 4   timestamp              248013 non-null  object \n",
      " 5   lon                    248013 non-null  float64\n",
      " 6   lat                    248013 non-null  float64\n",
      " 7   nav_stat               248013 non-null  int64  \n",
      " 8   speed                  246213 non-null  float64\n",
      " 9   course                 248013 non-null  int64  \n",
      " 10  heading                246742 non-null  float64\n",
      " 11  fuel_category          248013 non-null  int64  \n",
      " 12  main_engine_fuel_type  248013 non-null  object \n",
      " 13  aux_engine_fuel_type   248013 non-null  object \n",
      " 14  engine_type            247590 non-null  object \n",
      " 15  anchorage              246144 non-null  object \n",
      " 16  p                      247590 non-null  float64\n",
      " 17  vref                   246624 non-null  float64\n",
      " 18  sfc_me                 247590 non-null  float64\n",
      " 19  sfc_ae                 247590 non-null  float64\n",
      " 20  sfc_ab                 248013 non-null  float64\n",
      " 21  ael                    248013 non-null  float64\n",
      " 22  abl                    248013 non-null  float64\n",
      " 23  distance               248013 non-null  float64\n",
      "dtypes: float64(12), int64(4), object(8)\n",
      "memory usage: 47.3+ MB\n"
     ]
    }
   ],
   "source": [
    "ais_dataset.info()"
   ]
  },
  {
   "cell_type": "markdown",
   "metadata": {},
   "source": [
    "### Imputing"
   ]
  },
  {
   "cell_type": "code",
   "execution_count": 533,
   "metadata": {},
   "outputs": [],
   "source": [
    "# When looking through the speed we notice each imo has a null speed\n",
    "# This suggests that each ship is anchored-travels to sg-travels further/stays in sg\n",
    "# Speed null values can be imputed as '0'\n",
    "ais_dataset['speed'].fillna(0 , inplace=True)"
   ]
  },
  {
   "cell_type": "code",
   "execution_count": 534,
   "metadata": {},
   "outputs": [],
   "source": [
    "# We can also drop speeds that are greather than 30\n",
    "less_than_30_condition = ais_dataset['speed'] < 30\n",
    "ais_dataset = ais_dataset[less_than_30_condition]"
   ]
  },
  {
   "cell_type": "code",
   "execution_count": 535,
   "metadata": {},
   "outputs": [
    {
     "name": "stdout",
     "output_type": "stream",
     "text": [
      "<class 'pandas.core.frame.DataFrame'>\n",
      "Index: 248013 entries, 0 to 251768\n",
      "Data columns (total 24 columns):\n",
      " #   Column                 Non-Null Count   Dtype  \n",
      "---  ------                 --------------   -----  \n",
      " 0   imo                    248013 non-null  int64  \n",
      " 1   vessel_name            248013 non-null  object \n",
      " 2   vessel_type            248013 non-null  object \n",
      " 3   group                  248013 non-null  object \n",
      " 4   timestamp              248013 non-null  object \n",
      " 5   lon                    248013 non-null  float64\n",
      " 6   lat                    248013 non-null  float64\n",
      " 7   nav_stat               248013 non-null  int64  \n",
      " 8   speed                  248013 non-null  float64\n",
      " 9   course                 248013 non-null  int64  \n",
      " 10  heading                246742 non-null  float64\n",
      " 11  fuel_category          248013 non-null  int64  \n",
      " 12  main_engine_fuel_type  248013 non-null  object \n",
      " 13  aux_engine_fuel_type   248013 non-null  object \n",
      " 14  engine_type            247590 non-null  object \n",
      " 15  anchorage              246144 non-null  object \n",
      " 16  p                      247590 non-null  float64\n",
      " 17  vref                   246624 non-null  float64\n",
      " 18  sfc_me                 247590 non-null  float64\n",
      " 19  sfc_ae                 247590 non-null  float64\n",
      " 20  sfc_ab                 248013 non-null  float64\n",
      " 21  ael                    248013 non-null  float64\n",
      " 22  abl                    248013 non-null  float64\n",
      " 23  distance               248013 non-null  float64\n",
      "dtypes: float64(12), int64(4), object(8)\n",
      "memory usage: 47.3+ MB\n"
     ]
    }
   ],
   "source": [
    "ais_dataset.info()"
   ]
  },
  {
   "cell_type": "code",
   "execution_count": 536,
   "metadata": {},
   "outputs": [],
   "source": [
    "# imputing the max speed for the distance dataset\n",
    "# Adding vref to the dataset\n",
    "# we will calculate for null max speeds to be vref * 1.06\n",
    "\n",
    "distance_dataset = pd.merge(distance_dataset , ais_dataset[['imo' , 'vref']] , on='imo' , how='inner')\n",
    "distance_dataset = distance_dataset.drop_duplicates()\n",
    "\n",
    "distance_dataset['max_speed_kt'] = distance_dataset.apply(lambda row: row['vref'] * 1.06 if pd.isna(row['max_speed_kt']) else row['max_speed_kt'] , axis=1)"
   ]
  },
  {
   "cell_type": "markdown",
   "metadata": {},
   "source": [
    "### Feature Engineering\n",
    "\n",
    "port call"
   ]
  },
  {
   "cell_type": "code",
   "execution_count": 537,
   "metadata": {},
   "outputs": [],
   "source": [
    "# creating time col (duration spent during an event)\n",
    "# duration travelled = current - prev earliest time\n",
    "# duration in port = current latest - current earliest\n",
    "def get_time_difference_in_seconds_from_utc(s1 , s2):\n",
    "  try: \n",
    "    current_time_timestamp = dt.strptime(s1, '%Y-%m-%dT%H:%M:%S.%f%z').timestamp()\n",
    "    prev_time_timestamp = dt.strptime(s2, '%Y-%m-%dT%H:%M:%S.%f%z').timestamp()\n",
    "    duration_timestamp_seconds = abs(current_time_timestamp - prev_time_timestamp)\n",
    "    return duration_timestamp_seconds\n",
    "  except:\n",
    "    # For when value is null\n",
    "    return np.nan\n",
    "\n",
    "def get_duration(col1 , col2):\n",
    "  def calculate(rows):\n",
    "    s1 = rows[col1]\n",
    "    s2 = rows[col2]\n",
    "    return round(get_time_difference_in_seconds_from_utc(s1 , s2) / 3600 , 5) # rounding to 5 dp\n",
    "  \n",
    "  return calculate\n",
    "\n",
    "\n",
    "prev_anchor = ['prev_country_earliest_visit_time_utc' , 'prev_country_latest_visit_time_utc']\n",
    "prev_to_sg_transit = ['prev_country_latest_visit_time_utc' , 'current_earliest_visit_time_utc']\n",
    "sg_anchor = ['current_latest_visit_time_utc' , 'current_earliest_visit_time_utc']\n",
    "sg_to_next_transit = ['current_latest_visit_time_utc' , 'next_country_earliest_visit_time_utc']\n",
    "next_anchor = ['next_country_earliest_visit_time_utc' , 'next_country_latest_visit_time_utc']\n",
    "\n",
    "port_call_dataset['Prev Anchor'] = port_call_dataset.loc[: , prev_anchor].apply(get_duration(*prev_anchor) , axis=1)\n",
    "port_call_dataset['Prev to SG Transit'] = port_call_dataset.loc[: , prev_to_sg_transit].apply(get_duration(*prev_to_sg_transit), axis=1)\n",
    "port_call_dataset['SG Anchor'] = port_call_dataset.loc[: , sg_anchor].apply(get_duration(*sg_anchor), axis=1)\n",
    "port_call_dataset['SG to Next Transit'] = port_call_dataset.loc[: , sg_to_next_transit].apply(get_duration(*sg_to_next_transit) , axis=1)\n",
    "port_call_dataset['Next Anchor'] = port_call_dataset.loc[: , next_anchor].apply(get_duration(*next_anchor) , axis=1)"
   ]
  },
  {
   "cell_type": "markdown",
   "metadata": {},
   "source": [
    "AIS dataset"
   ]
  },
  {
   "cell_type": "code",
   "execution_count": 538,
   "metadata": {},
   "outputs": [],
   "source": [
    "def get_state(row):\n",
    "  TRANSIT_NAV_STAT = [0 , 3 , 4 , 8 , 11 , 12]\n",
    "  if row['speed'] > 1 or row['nav_stat'] in TRANSIT_NAV_STAT:\n",
    "    return 'Transit'\n",
    "  return 'Anchored'"
   ]
  },
  {
   "cell_type": "code",
   "execution_count": 539,
   "metadata": {},
   "outputs": [],
   "source": [
    "ais_dataset['state'] = ais_dataset.apply(get_state , axis=1)"
   ]
  },
  {
   "cell_type": "code",
   "execution_count": 540,
   "metadata": {},
   "outputs": [
    {
     "data": {
      "text/plain": [
       "0         Transit\n",
       "1         Transit\n",
       "2         Transit\n",
       "3         Transit\n",
       "4         Transit\n",
       "           ...   \n",
       "251764    Transit\n",
       "251765    Transit\n",
       "251766    Transit\n",
       "251767    Transit\n",
       "251768    Transit\n",
       "Name: state, Length: 248013, dtype: object"
      ]
     },
     "execution_count": 540,
     "metadata": {},
     "output_type": "execute_result"
    }
   ],
   "source": [
    "ais_dataset['state']"
   ]
  },
  {
   "cell_type": "code",
   "execution_count": 541,
   "metadata": {},
   "outputs": [],
   "source": [
    "# Adding the admission tier\n"
   ]
  },
  {
   "cell_type": "markdown",
   "metadata": {},
   "source": [
    "### Calculating Before Emissions"
   ]
  },
  {
   "cell_type": "code",
   "execution_count": 542,
   "metadata": {},
   "outputs": [],
   "source": [
    "# Calculating ef\n",
    "ais_dataset['ef_me'] = ais_dataset['sfc_me'] * 0.867 * 3.667\n",
    "ais_dataset['ef_ae'] = ais_dataset['sfc_ae'] * 0.867 * 3.667\n",
    "ais_dataset['ef_ab'] = ais_dataset['sfc_ab'] * 0.867 * 3.667\n"
   ]
  },
  {
   "cell_type": "code",
   "execution_count": 543,
   "metadata": {},
   "outputs": [],
   "source": [
    "# result[\"ratio\"] = result[\"max_speed_kt\"] / result[\"vref\"]\n",
    "# result[\"rounded\"] = result[\"ratio\"].apply(lambda x: 0 if x < 1 else 1)\n",
    "\n",
    "# # Count the number of 0s and 1s\n",
    "# counts = result[\"rounded\"].value_counts()\n",
    "\n",
    "# # Plot the pie chart\n",
    "# plt.figure(figsize=(8, 6))\n",
    "# counts.plot.pie(\n",
    "#     labels=[\"Below 1 (0)\", \"Above or Equal to 1 (1)\"],\n",
    "#     autopct=\"%1.1f%%\",\n",
    "#     startangle=90,\n",
    "#     colors=[\"lightblue\", \"orange\"]\n",
    "# )\n",
    "\n",
    "# # Add a title\n",
    "# plt.title(\"Distribution of Rounded Values\", fontsize=14)\n",
    "# plt.ylabel(\"\")  # Hide the y-axis label\n",
    "# plt.show()"
   ]
  },
  {
   "cell_type": "code",
   "execution_count": 544,
   "metadata": {},
   "outputs": [
    {
     "name": "stdout",
     "output_type": "stream",
     "text": [
      "3.9299050600096015\n",
      "1.5400323979836774\n",
      "0.971435429668747\n"
     ]
    }
   ],
   "source": [
    "print(np.mean(port_call_dataset['SG Anchor']))\n",
    "print(np.mean(port_call_dataset['Prev Anchor']))\n",
    "print(np.mean(port_call_dataset['Next Anchor'].notnull()))"
   ]
  },
  {
   "cell_type": "code",
   "execution_count": 545,
   "metadata": {},
   "outputs": [
    {
     "name": "stdout",
     "output_type": "stream",
     "text": [
      "['2024-06-30T00:20:08.000+0000' '2024-06-30T00:20:42.000+0000'\n",
      " '2024-06-30T00:45:03.000+0000' ... '2024-07-31T22:41:13.000+0000'\n",
      " '2024-07-31T23:15:01.000+0000' '2024-07-31T23:45:02.000+0000']\n",
      "Index(['imo', 'vessel_name', 'vessel_type', 'group', 'timestamp', 'lon', 'lat',\n",
      "       'nav_stat', 'speed', 'course', 'heading', 'fuel_category',\n",
      "       'main_engine_fuel_type', 'aux_engine_fuel_type', 'engine_type',\n",
      "       'anchorage', 'p', 'vref', 'sfc_me', 'sfc_ae', 'sfc_ab', 'ael', 'abl',\n",
      "       'distance', 'state', 'ef_me', 'ef_ae', 'ef_ab'],\n",
      "      dtype='object')\n"
     ]
    }
   ],
   "source": [
    "print(np.sort(port_call_dataset['current_earliest_visit_time_utc'].unique()))\n",
    "print(ais_dataset.columns)"
   ]
  },
  {
   "cell_type": "code",
   "execution_count": 546,
   "metadata": {},
   "outputs": [
    {
     "name": "stdout",
     "output_type": "stream",
     "text": [
      "Index(['current_snapshot_date_utc', 'imo', 'current_port_name',\n",
      "       'current_port_country_name', 'current_earliest_visit_time_utc',\n",
      "       'current_latest_visit_time_utc', 'current_zone_polygon_name',\n",
      "       'current_zone_type', 'next_port_name', 'next_country_name',\n",
      "       'next_country_earliest_visit_time_utc',\n",
      "       'next_country_latest_visit_time_utc', 'next_zone_polygon_name',\n",
      "       'next_snapshot_date', 'next_zone_type', 'prev_port_name',\n",
      "       'prev_country_name', 'prev_country_earliest_visit_time_utc',\n",
      "       'prev_country_latest_visit_time_utc', 'prev_zone_polygon_name',\n",
      "       'prev_snapshot_date', 'prev_zone_type', 'Prev Anchor',\n",
      "       'Prev to SG Transit', 'SG Anchor', 'SG to Next Transit', 'Next Anchor',\n",
      "       'vessel_type'],\n",
      "      dtype='object')\n",
      "vessel_type\n",
      "Deck Cargo Ship              22.287801\n",
      "Shuttle Tanker               17.537780\n",
      "Livestock Carrier            17.138988\n",
      "Heavy Load Carrier           16.533120\n",
      "LNG Tanker                   16.162102\n",
      "Crude Oil Tanker             16.098137\n",
      "Ore Carrier                  15.777661\n",
      "Crude/Oil Products Tanker    14.971319\n",
      "Products Tanker              14.913083\n",
      "Refrigerated Cargo Ship      14.812710\n",
      "Name: SG Anchor, dtype: float64\n",
      "vessel_type\n",
      "Refrigerated Cargo Ship            76.650293\n",
      "Container Ship (Fully Cellular)    53.404444\n",
      "Molten Sulphur Tanker              45.893890\n",
      "LNG Tanker                         33.321115\n",
      "LPG Tanker                         29.318258\n",
      "Vehicles Carrier                   25.198741\n",
      "Heavy Load Carrier                 23.720262\n",
      "Chemical/Products Tanker           17.889184\n",
      "Aggregates Carrier                 14.984878\n",
      "Crude Oil Tanker                   12.724338\n",
      "Name: Prev to SG Transit, dtype: float64\n"
     ]
    }
   ],
   "source": [
    "avgtime = pd.merge(port_call_dataset, ais_dataset[['imo', 'vessel_type']], how='inner', on='imo')\n",
    "# Check the columns of the merged DataFrame to ensure 'vessel_type' is present\n",
    "print(avgtime.columns)\n",
    "\n",
    "# Now group by 'vessel_type' and calculate the mean of 'Sg Anchor'\n",
    "avg_time_per_vessel_type = avgtime.groupby('vessel_type')['SG Anchor'].mean()\n",
    "avg_speed_per_vessel_type = avgtime.groupby('vessel_type')['Prev to SG Transit'].mean()# Print the result\n",
    "print(avg_time_per_vessel_type.nlargest(10))\n",
    "print(avg_speed_per_vessel_type.nlargest(10))"
   ]
  },
  {
   "cell_type": "markdown",
   "metadata": {},
   "source": [
    "### Attaching Emissions to port call"
   ]
  },
  {
   "cell_type": "code",
   "execution_count": 547,
   "metadata": {},
   "outputs": [],
   "source": [
    "def calculate_emissions_aux(row):\n",
    "    LA = row['ael']\n",
    "    LBL = row['abl']\n",
    "    EF_SFCAE = row['ef_ae']\n",
    "    EF_SFCAB = row['ef_ab']\n",
    "    base_emissions = (LA * EF_SFCAE + LBL * EF_SFCAB)\n",
    "    return base_emissions\n",
    "\n",
    "\n",
    "# Apply emissions calculations for 'Aux' and 'Transit' columns\n",
    "ais_dataset['Aux'] = ais_dataset.apply(calculate_emissions_aux, axis=1)\n"
   ]
  },
  {
   "cell_type": "code",
   "execution_count": 548,
   "metadata": {},
   "outputs": [],
   "source": [
    "ais_dataset['Aux_total'] = ais_dataset.groupby('imo')['Aux'].transform('sum')\n"
   ]
  },
  {
   "cell_type": "code",
   "execution_count": 549,
   "metadata": {},
   "outputs": [
    {
     "name": "stdout",
     "output_type": "stream",
     "text": [
      "0         6.868089e+07\n",
      "1         6.868089e+07\n",
      "2         6.868089e+07\n",
      "3         6.868089e+07\n",
      "4         6.868089e+07\n",
      "              ...     \n",
      "251764    1.313553e+08\n",
      "251765    1.313553e+08\n",
      "251766    1.313553e+08\n",
      "251767    1.313553e+08\n",
      "251768    1.313553e+08\n",
      "Name: Aux_total, Length: 248013, dtype: float64\n"
     ]
    }
   ],
   "source": [
    "print(ais_dataset['Aux_total'])\n"
   ]
  },
  {
   "cell_type": "code",
   "execution_count": 586,
   "metadata": {},
   "outputs": [],
   "source": [
    "def calculate_emissions_transit(row):\n",
    "    try:\n",
    "        if row['state'] != 'Transit':\n",
    "            return 0\n",
    "\n",
    "        IMO = row['imo']\n",
    "        transit_and_imo_condition = (ais_dataset['state'] == 'Transit') & (ais_dataset['imo'] == IMO)\n",
    "\n",
    "        speeds_in_transit = ais_dataset[transit_and_imo_condition]['speed']\n",
    "        if speeds_in_transit.empty:\n",
    "            return 0\n",
    "        \n",
    "        AVERAGE_SPEED = speeds_in_transit.mean()\n",
    "\n",
    "        max_speed_info = distance_dataset[distance_dataset['imo'] == IMO]\n",
    "        if max_speed_info.empty:\n",
    "            return 0\n",
    "        MAX_SPEED = max_speed_info['max_speed_kt'].values[0]\n",
    "\n",
    "        LF = (AVERAGE_SPEED / MAX_SPEED) ** 3\n",
    "        SUMMED_SPEED = speeds_in_transit.sum()\n",
    "\n",
    "        EF_SFME = row['ef_me']\n",
    "        P = row['p']\n",
    "        A = row['speed'] / SUMMED_SPEED\n",
    "\n",
    "        load_factor = f'{math.ceil(LF * 100)}%'\n",
    "        LLAF = llaf_table[llaf_table['Load'] == load_factor]\n",
    "\n",
    "        if LLAF.empty:\n",
    "            LLAF = 1\n",
    "        else:\n",
    "            LLAF = LLAF.iloc[0]['CO2']\n",
    "\n",
    "        emissions = P * LF * A * EF_SFME * LLAF\n",
    "        return emissions\n",
    "    except Exception as e:\n",
    "        print(f\"Error processing IMO {row['imo']}: {e}\")\n",
    "        return 0\n",
    "\n",
    "# Apply the function to the dataset and test it with print statements\n",
    "ais_dataset['Transit'] = ais_dataset.apply(calculate_emissions_transit, axis=1)"
   ]
  },
  {
   "cell_type": "code",
   "execution_count": 555,
   "metadata": {},
   "outputs": [],
   "source": [
    "\n",
    "a= llaf_table[llaf_table['Load'] == '2%']['CO2']\n"
   ]
  },
  {
   "cell_type": "code",
   "execution_count": null,
   "metadata": {},
   "outputs": [],
   "source": []
  }
 ],
 "metadata": {
  "kernelspec": {
   "display_name": "base",
   "language": "python",
   "name": "python3"
  },
  "language_info": {
   "codemirror_mode": {
    "name": "ipython",
    "version": 3
   },
   "file_extension": ".py",
   "mimetype": "text/x-python",
   "name": "python",
   "nbconvert_exporter": "python",
   "pygments_lexer": "ipython3",
   "version": "3.12.4"
  }
 },
 "nbformat": 4,
 "nbformat_minor": 2
}
