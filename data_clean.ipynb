{
 "cells": [
  {
   "cell_type": "code",
   "execution_count": 54,
   "metadata": {},
   "outputs": [],
   "source": [
    "import pandas as pd\n",
    "import matplotlib.pyplot as plt\n",
    "import numpy as np\n",
    "from datetime import datetime as dt\n",
    "import math\n",
    "import warnings\n",
    "warnings.filterwarnings('ignore')"
   ]
  },
  {
   "cell_type": "code",
   "execution_count": 55,
   "metadata": {},
   "outputs": [
    {
     "name": "stdout",
     "output_type": "stream",
     "text": [
      "2543\n",
      "4166\n",
      "<class 'pandas.core.frame.DataFrame'>\n",
      "RangeIndex: 251769 entries, 0 to 251768\n",
      "Data columns (total 30 columns):\n",
      " #   Column                 Non-Null Count   Dtype  \n",
      "---  ------                 --------------   -----  \n",
      " 0   imo                    251769 non-null  int64  \n",
      " 1   mmsi                   251769 non-null  int64  \n",
      " 2   vessel_name            251769 non-null  object \n",
      " 3   date_of_build          251769 non-null  object \n",
      " 4   vessel_type            251769 non-null  object \n",
      " 5   group                  251769 non-null  object \n",
      " 6   timestamp              251769 non-null  object \n",
      " 7   lon                    251769 non-null  float64\n",
      " 8   lat                    251769 non-null  float64\n",
      " 9   nav_stat               251769 non-null  int64  \n",
      " 10  speed                  249752 non-null  float64\n",
      " 11  course                 251769 non-null  int64  \n",
      " 12  heading                250464 non-null  float64\n",
      " 13  fuel_category          251769 non-null  int64  \n",
      " 14  main_engine_fuel_type  251769 non-null  object \n",
      " 15  aux_engine_fuel_type   251769 non-null  object \n",
      " 16  engine_type            251334 non-null  object \n",
      " 17  berth                  0 non-null       float64\n",
      " 18  port_name              251769 non-null  object \n",
      " 19  anchorage              249656 non-null  object \n",
      " 20  terminal               0 non-null       float64\n",
      " 21  maneuvering_zone       0 non-null       float64\n",
      " 22  p                      251318 non-null  float64\n",
      " 23  vref                   250087 non-null  float64\n",
      " 24  sfc_me                 251334 non-null  float64\n",
      " 25  sfc_ae                 251334 non-null  float64\n",
      " 26  sfc_ab                 251769 non-null  float64\n",
      " 27  ael                    251769 non-null  float64\n",
      " 28  abl                    251769 non-null  float64\n",
      " 29  distance               251769 non-null  float64\n",
      "dtypes: float64(15), int64(5), object(10)\n",
      "memory usage: 57.6+ MB\n",
      "None\n",
      "<class 'pandas.core.frame.DataFrame'>\n",
      "RangeIndex: 4166 entries, 0 to 4165\n",
      "Data columns (total 22 columns):\n",
      " #   Column                                Non-Null Count  Dtype \n",
      "---  ------                                --------------  ----- \n",
      " 0   current_snapshot_date_utc             4166 non-null   object\n",
      " 1   imo                                   4166 non-null   int64 \n",
      " 2   current_port_name                     4166 non-null   object\n",
      " 3   current_port_country_name             4166 non-null   object\n",
      " 4   current_earliest_visit_time_utc       4166 non-null   object\n",
      " 5   current_latest_visit_time_utc         4166 non-null   object\n",
      " 6   current_zone_polygon_name             4166 non-null   object\n",
      " 7   current_zone_type                     4166 non-null   object\n",
      " 8   next_port_name                        4047 non-null   object\n",
      " 9   next_country_name                     4047 non-null   object\n",
      " 10  next_country_earliest_visit_time_utc  4047 non-null   object\n",
      " 11  next_country_latest_visit_time_utc    4047 non-null   object\n",
      " 12  next_zone_polygon_name                3940 non-null   object\n",
      " 13  next_snapshot_date                    4047 non-null   object\n",
      " 14  next_zone_type                        3940 non-null   object\n",
      " 15  prev_port_name                        4166 non-null   object\n",
      " 16  prev_country_name                     4166 non-null   object\n",
      " 17  prev_country_earliest_visit_time_utc  4166 non-null   object\n",
      " 18  prev_country_latest_visit_time_utc    4166 non-null   object\n",
      " 19  prev_zone_polygon_name                4100 non-null   object\n",
      " 20  prev_snapshot_date                    4166 non-null   object\n",
      " 21  prev_zone_type                        4100 non-null   object\n",
      "dtypes: int64(1), object(21)\n",
      "memory usage: 716.2+ KB\n",
      "None\n",
      "<class 'pandas.core.frame.DataFrame'>\n",
      "RangeIndex: 12553 entries, 0 to 12552\n",
      "Data columns (total 7 columns):\n",
      " #   Column             Non-Null Count  Dtype  \n",
      "---  ------             --------------  -----  \n",
      " 0   snapshot_date_utc  12553 non-null  object \n",
      " 1   imo                12553 non-null  int64  \n",
      " 2   distance_nm        12553 non-null  float64\n",
      " 3   duration_minutes   12553 non-null  float64\n",
      " 4   avg_speed_kt       12553 non-null  float64\n",
      " 5   min_speed_kt       12553 non-null  float64\n",
      " 6   max_speed_kt       12553 non-null  float64\n",
      "dtypes: float64(5), int64(1), object(1)\n",
      "memory usage: 686.6+ KB\n",
      "None\n"
     ]
    }
   ],
   "source": [
    "ais_dataset = pd.read_csv('./datasets/ais_dataset.csv')\n",
    "port_call_dataset = pd.read_csv('./datasets/port_call_dataset.csv')\n",
    "distance_dataset = pd.read_csv('./datasets/distance_dataset.csv')\n",
    "\n",
    "\n",
    "\n",
    "\n",
    "print(len(ais_dataset['imo'].unique()))\n",
    "print(len(port_call_dataset['imo'].unique()))\n",
    "print(ais_dataset.info())\n",
    "print(port_call_dataset.info())\n",
    "print(distance_dataset.info())\n",
    "# no terminal, maneuvering , berth\n",
    "# suggests that only anchored and transit\n",
    "# we can simply find if anchored or not"
   ]
  },
  {
   "cell_type": "markdown",
   "metadata": {},
   "source": [
    "### Dropping Columns\n",
    "---"
   ]
  },
  {
   "cell_type": "markdown",
   "metadata": {},
   "source": [
    "##### AIS"
   ]
  },
  {
   "cell_type": "code",
   "execution_count": 56,
   "metadata": {},
   "outputs": [],
   "source": [
    "# dropping missing values\n",
    "ais_dataset.drop(columns=['berth' , 'terminal' , 'maneuvering_zone'] , inplace=True)\n",
    "# ais_dataset.dropna(inplace=True) # 《 5% missing data"
   ]
  },
  {
   "cell_type": "code",
   "execution_count": 57,
   "metadata": {},
   "outputs": [],
   "source": [
    "# From background research cum provided information\n",
    "# ABL AEL !== 0\n",
    "# drop meta data:\n",
    "# port_name , mmsi (cannot be used since other datasets only have imo) , date_of_build\n",
    "useless_columns = ['port_name' , 'mmsi' , 'date_of_build']\n",
    "ais_dataset.drop(columns=useless_columns , inplace=True)"
   ]
  },
  {
   "cell_type": "code",
   "execution_count": 58,
   "metadata": {},
   "outputs": [],
   "source": [
    "abl_ael_not_zero_condition = (ais_dataset['abl'] > 0) & (ais_dataset['ael'] > 0)\n",
    "ais_dataset = ais_dataset[abl_ael_not_zero_condition]"
   ]
  },
  {
   "cell_type": "code",
   "execution_count": 59,
   "metadata": {},
   "outputs": [
    {
     "name": "stdout",
     "output_type": "stream",
     "text": [
      "<class 'pandas.core.frame.DataFrame'>\n",
      "Index: 248013 entries, 0 to 251768\n",
      "Data columns (total 24 columns):\n",
      " #   Column                 Non-Null Count   Dtype  \n",
      "---  ------                 --------------   -----  \n",
      " 0   imo                    248013 non-null  int64  \n",
      " 1   vessel_name            248013 non-null  object \n",
      " 2   vessel_type            248013 non-null  object \n",
      " 3   group                  248013 non-null  object \n",
      " 4   timestamp              248013 non-null  object \n",
      " 5   lon                    248013 non-null  float64\n",
      " 6   lat                    248013 non-null  float64\n",
      " 7   nav_stat               248013 non-null  int64  \n",
      " 8   speed                  246213 non-null  float64\n",
      " 9   course                 248013 non-null  int64  \n",
      " 10  heading                246742 non-null  float64\n",
      " 11  fuel_category          248013 non-null  int64  \n",
      " 12  main_engine_fuel_type  248013 non-null  object \n",
      " 13  aux_engine_fuel_type   248013 non-null  object \n",
      " 14  engine_type            247590 non-null  object \n",
      " 15  anchorage              246144 non-null  object \n",
      " 16  p                      247590 non-null  float64\n",
      " 17  vref                   246624 non-null  float64\n",
      " 18  sfc_me                 247590 non-null  float64\n",
      " 19  sfc_ae                 247590 non-null  float64\n",
      " 20  sfc_ab                 248013 non-null  float64\n",
      " 21  ael                    248013 non-null  float64\n",
      " 22  abl                    248013 non-null  float64\n",
      " 23  distance               248013 non-null  float64\n",
      "dtypes: float64(12), int64(4), object(8)\n",
      "memory usage: 47.3+ MB\n"
     ]
    }
   ],
   "source": [
    "ais_dataset.info()"
   ]
  },
  {
   "cell_type": "markdown",
   "metadata": {},
   "source": [
    "### Imputing"
   ]
  },
  {
   "cell_type": "code",
   "execution_count": 60,
   "metadata": {},
   "outputs": [],
   "source": [
    "# When looking through the speed we notice each imo has a null speed\n",
    "# This suggests that each ship is anchored-travels to sg-travels further/stays in sg\n",
    "# Speed null values can be imputed as '0'\n",
    "ais_dataset['speed'].fillna(0 , inplace=True)"
   ]
  },
  {
   "cell_type": "code",
   "execution_count": 61,
   "metadata": {},
   "outputs": [],
   "source": [
    "# We can also drop speeds that are greather than 30\n",
    "less_than_30_condition = ais_dataset['speed'] < 30\n",
    "ais_dataset = ais_dataset[less_than_30_condition]"
   ]
  },
  {
   "cell_type": "code",
   "execution_count": 62,
   "metadata": {},
   "outputs": [
    {
     "name": "stdout",
     "output_type": "stream",
     "text": [
      "<class 'pandas.core.frame.DataFrame'>\n",
      "Index: 248013 entries, 0 to 251768\n",
      "Data columns (total 24 columns):\n",
      " #   Column                 Non-Null Count   Dtype  \n",
      "---  ------                 --------------   -----  \n",
      " 0   imo                    248013 non-null  int64  \n",
      " 1   vessel_name            248013 non-null  object \n",
      " 2   vessel_type            248013 non-null  object \n",
      " 3   group                  248013 non-null  object \n",
      " 4   timestamp              248013 non-null  object \n",
      " 5   lon                    248013 non-null  float64\n",
      " 6   lat                    248013 non-null  float64\n",
      " 7   nav_stat               248013 non-null  int64  \n",
      " 8   speed                  248013 non-null  float64\n",
      " 9   course                 248013 non-null  int64  \n",
      " 10  heading                246742 non-null  float64\n",
      " 11  fuel_category          248013 non-null  int64  \n",
      " 12  main_engine_fuel_type  248013 non-null  object \n",
      " 13  aux_engine_fuel_type   248013 non-null  object \n",
      " 14  engine_type            247590 non-null  object \n",
      " 15  anchorage              246144 non-null  object \n",
      " 16  p                      247590 non-null  float64\n",
      " 17  vref                   246624 non-null  float64\n",
      " 18  sfc_me                 247590 non-null  float64\n",
      " 19  sfc_ae                 247590 non-null  float64\n",
      " 20  sfc_ab                 248013 non-null  float64\n",
      " 21  ael                    248013 non-null  float64\n",
      " 22  abl                    248013 non-null  float64\n",
      " 23  distance               248013 non-null  float64\n",
      "dtypes: float64(12), int64(4), object(8)\n",
      "memory usage: 47.3+ MB\n"
     ]
    }
   ],
   "source": [
    "ais_dataset.info()"
   ]
  },
  {
   "cell_type": "markdown",
   "metadata": {},
   "source": [
    "### Feature Engineering\n",
    "\n",
    "port call"
   ]
  },
  {
   "cell_type": "code",
   "execution_count": 63,
   "metadata": {},
   "outputs": [],
   "source": [
    "# creating time col (duration spent during an event)\n",
    "# duration travelled = current - prev earliest time\n",
    "# duration in port = current latest - current earliest\n",
    "def get_time_difference_in_seconds_from_utc(s1 , s2):\n",
    "  current_time_timestamp = dt.strptime(s1, '%Y-%m-%dT%H:%M:%S.%f%z').timestamp()\n",
    "  prev_time_timestamp = dt.strptime(s2, '%Y-%m-%dT%H:%M:%S.%f%z').timestamp()\n",
    "  duration_timestamp_seconds = current_time_timestamp - prev_time_timestamp\n",
    "  return duration_timestamp_seconds\n",
    "\n",
    "def get_port_to_sg_duration(rows):\n",
    "  s1 = rows['current_earliest_visit_time_utc']\n",
    "  s2 = rows['prev_country_earliest_visit_time_utc']\n",
    "  return round(get_time_difference_in_seconds_from_utc(s1 , s2) / 3600 , 5) # rounding to 5 dp\n",
    "\n",
    "def get_sg_port_duration(rows):\n",
    "  s1 = rows['current_latest_visit_time_utc']\n",
    "  s2 = rows['current_earliest_visit_time_utc']\n",
    "  return round(get_time_difference_in_seconds_from_utc(s1 , s2) / 3600 , 5) # rounding to 5 dp\n",
    "\n",
    "\n",
    "\n",
    "port_call_dataset['Time from Prev port to SG (h)'] = port_call_dataset.loc[: , ['current_earliest_visit_time_utc' , 'prev_country_earliest_visit_time_utc']].apply(get_port_to_sg_duration, axis=1)\n",
    "port_call_dataset['Duration in Port (h)'] = port_call_dataset.loc[: , ['current_latest_visit_time_utc' , 'current_earliest_visit_time_utc']].apply(get_sg_port_duration , axis=1)"
   ]
  },
  {
   "cell_type": "markdown",
   "metadata": {},
   "source": [
    "AIS dataset"
   ]
  },
  {
   "cell_type": "code",
   "execution_count": 64,
   "metadata": {},
   "outputs": [],
   "source": [
    "# Handling state (transit or anchored)\n",
    "def get_state(row):\n",
    "  TRANSIT_NAV_STAT = [0 , 3 , 4 , 8 , 11 , 12]\n",
    "  if row['speed'] > 1 or row['nav_stat'] in TRANSIT_NAV_STAT:\n",
    "    return 'Transit'\n",
    "  elif row['speed'] < 1 and row['nav_stat'] == 0:\n",
    "    return 'Anchored'"
   ]
  },
  {
   "cell_type": "code",
   "execution_count": 65,
   "metadata": {},
   "outputs": [],
   "source": [
    "ais_dataset['state'] = ais_dataset.apply(get_state , axis=1)"
   ]
  },
  {
   "cell_type": "code",
   "execution_count": 66,
   "metadata": {},
   "outputs": [
    {
     "data": {
      "text/plain": [
       "0         Transit\n",
       "1         Transit\n",
       "2         Transit\n",
       "3         Transit\n",
       "4         Transit\n",
       "           ...   \n",
       "251764    Transit\n",
       "251765    Transit\n",
       "251766    Transit\n",
       "251767    Transit\n",
       "251768    Transit\n",
       "Name: state, Length: 248013, dtype: object"
      ]
     },
     "execution_count": 66,
     "metadata": {},
     "output_type": "execute_result"
    }
   ],
   "source": [
    "ais_dataset['state']"
   ]
  },
  {
   "cell_type": "code",
   "execution_count": 67,
   "metadata": {},
   "outputs": [
    {
     "ename": "SyntaxError",
     "evalue": "unterminated string literal (detected at line 1) (3674507783.py, line 1)",
     "output_type": "error",
     "traceback": [
      "\u001b[1;36m  Cell \u001b[1;32mIn[67], line 1\u001b[1;36m\u001b[0m\n\u001b[1;33m    ais_dataset['\u001b[0m\n\u001b[1;37m                ^\u001b[0m\n\u001b[1;31mSyntaxError\u001b[0m\u001b[1;31m:\u001b[0m unterminated string literal (detected at line 1)\n"
     ]
    }
   ],
   "source": []
  }
 ],
 "metadata": {
  "kernelspec": {
   "display_name": "base",
   "language": "python",
   "name": "python3"
  },
  "language_info": {
   "codemirror_mode": {
    "name": "ipython",
    "version": 3
   },
   "file_extension": ".py",
   "mimetype": "text/x-python",
   "name": "python",
   "nbconvert_exporter": "python",
   "pygments_lexer": "ipython3",
   "version": "3.12.4"
  }
 },
 "nbformat": 4,
 "nbformat_minor": 2
}
