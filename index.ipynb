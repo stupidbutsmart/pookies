{
 "cells": [
  {
   "cell_type": "markdown",
   "metadata": {},
   "source": [
    "# Problem Statement\n",
    "We want to perform a JIT arrival analysis to find a strategy to reduce waiting times\n",
    "\n",
    "break down:\n",
    "- What feature(s) caused the poor waiting times\n",
    "- How can we prevent this feature(s) from affecting our wait times\n"
   ]
  },
  {
   "cell_type": "code",
   "execution_count": 2,
   "metadata": {},
   "outputs": [],
   "source": [
    "import pandas as pd\n"
   ]
  },
  {
   "cell_type": "code",
   "execution_count": 4,
   "metadata": {},
   "outputs": [
    {
     "name": "stdout",
     "output_type": "stream",
     "text": [
      "       imo       mmsi     vessel_name             date_of_build   vessel_type  \\\n",
      "0  9984730  636023994  SEACON ANTWERP  2024-06-06T00:00:00.000Z  Bulk Carrier   \n",
      "1  9984730  636023994  SEACON ANTWERP  2024-06-06T00:00:00.000Z  Bulk Carrier   \n",
      "2  9984730  636023994  SEACON ANTWERP  2024-06-06T00:00:00.000Z  Bulk Carrier   \n",
      "3  9984730  636023994  SEACON ANTWERP  2024-06-06T00:00:00.000Z  Bulk Carrier   \n",
      "4  9984730  636023994  SEACON ANTWERP  2024-06-06T00:00:00.000Z  Bulk Carrier   \n",
      "\n",
      "          group                 timestamp         lon       lat  nav_stat  \\\n",
      "0  Bulk Carrier  2024-07-28T00:23:32.000Z  104.029630  1.283717         0   \n",
      "1  Bulk Carrier  2024-07-28T00:25:02.000Z  104.029755  1.285643         0   \n",
      "2  Bulk Carrier  2024-07-28T00:30:01.000Z  104.029420  1.291690         0   \n",
      "3  Bulk Carrier  2024-07-28T00:32:51.000Z  104.028160  1.294758         0   \n",
      "4  Bulk Carrier  2024-07-28T00:35:02.000Z  104.026474  1.296387         0   \n",
      "\n",
      "   ...  terminal  maneuvering_zone       p  vref sfc_me sfc_ae sfc_ab    ael  \\\n",
      "0  ...       NaN               NaN  7900.0  14.1  167.1  209.1  300.0  316.0   \n",
      "1  ...       NaN               NaN  7900.0  14.1  167.1  209.1  300.0  316.0   \n",
      "2  ...       NaN               NaN  7900.0  14.1  167.1  209.1  300.0  316.0   \n",
      "3  ...       NaN               NaN  7900.0  14.1  167.1  209.1  300.0  316.0   \n",
      "4  ...       NaN               NaN  7900.0  14.1  167.1  209.1  300.0  316.0   \n",
      "\n",
      "     abl  distance  \n",
      "0  138.0  6.221528  \n",
      "1  138.0  0.115910  \n",
      "2  138.0  0.363603  \n",
      "3  138.0  0.199119  \n",
      "4  138.0  0.140720  \n",
      "\n",
      "[5 rows x 30 columns]\n"
     ]
    }
   ],
   "source": [
    "df = pd.read_csv(r\"C:\\Users\\ngwen\\OneDrive\\Desktop\\hack\\pookies\\datasets\\ais_dataset.csv\")\n",
    "print(df.head())"
   ]
  },
  {
   "cell_type": "code",
   "execution_count": 5,
   "metadata": {},
   "outputs": [
    {
     "data": {
      "text/plain": [
       "(251769, 30)"
      ]
     },
     "execution_count": 5,
     "metadata": {},
     "output_type": "execute_result"
    }
   ],
   "source": [
    "df.shape"
   ]
  },
  {
   "cell_type": "code",
   "execution_count": null,
   "metadata": {},
   "outputs": [],
   "source": []
  }
 ],
 "metadata": {
  "kernelspec": {
   "display_name": "base",
   "language": "python",
   "name": "python3"
  },
  "language_info": {
   "codemirror_mode": {
    "name": "ipython",
    "version": 3
   },
   "file_extension": ".py",
   "mimetype": "text/x-python",
   "name": "python",
   "nbconvert_exporter": "python",
   "pygments_lexer": "ipython3",
   "version": "3.12.4"
  }
 },
 "nbformat": 4,
 "nbformat_minor": 2
}
