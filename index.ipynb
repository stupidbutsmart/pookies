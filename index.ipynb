{
 "cells": [
  {
   "cell_type": "markdown",
   "metadata": {},
   "source": [
    "# Problem Statement\n",
    "We want to perform a JIT arrival analysis to find a strategy to reduce waiting times\n",
    "\n",
    "break down:\n",
    "- What feature(s) caused the poor waiting times\n",
    "- How can we prevent this feature(s) from affecting our wait times\n"
   ]
  },
  {
   "cell_type": "code",
   "execution_count": 24,
   "metadata": {},
   "outputs": [],
   "source": [
    "import pandas as pd\n"
   ]
  },
  {
   "cell_type": "code",
   "execution_count": 21,
   "metadata": {},
   "outputs": [
    {
     "name": "stdout",
     "output_type": "stream",
     "text": [
      "       imo       mmsi     vessel_name             date_of_build   vessel_type  \\\n",
      "0  9984730  636023994  SEACON ANTWERP  2024-06-06T00:00:00.000Z  Bulk Carrier   \n",
      "1  9984730  636023994  SEACON ANTWERP  2024-06-06T00:00:00.000Z  Bulk Carrier   \n",
      "2  9984730  636023994  SEACON ANTWERP  2024-06-06T00:00:00.000Z  Bulk Carrier   \n",
      "3  9984730  636023994  SEACON ANTWERP  2024-06-06T00:00:00.000Z  Bulk Carrier   \n",
      "4  9984730  636023994  SEACON ANTWERP  2024-06-06T00:00:00.000Z  Bulk Carrier   \n",
      "\n",
      "          group                 timestamp         lon       lat  nav_stat  \\\n",
      "0  Bulk Carrier  2024-07-28T00:23:32.000Z  104.029630  1.283717         0   \n",
      "1  Bulk Carrier  2024-07-28T00:25:02.000Z  104.029755  1.285643         0   \n",
      "2  Bulk Carrier  2024-07-28T00:30:01.000Z  104.029420  1.291690         0   \n",
      "3  Bulk Carrier  2024-07-28T00:32:51.000Z  104.028160  1.294758         0   \n",
      "4  Bulk Carrier  2024-07-28T00:35:02.000Z  104.026474  1.296387         0   \n",
      "\n",
      "   ...  terminal  maneuvering_zone       p  vref sfc_me sfc_ae sfc_ab    ael  \\\n",
      "0  ...       NaN               NaN  7900.0  14.1  167.1  209.1  300.0  316.0   \n",
      "1  ...       NaN               NaN  7900.0  14.1  167.1  209.1  300.0  316.0   \n",
      "2  ...       NaN               NaN  7900.0  14.1  167.1  209.1  300.0  316.0   \n",
      "3  ...       NaN               NaN  7900.0  14.1  167.1  209.1  300.0  316.0   \n",
      "4  ...       NaN               NaN  7900.0  14.1  167.1  209.1  300.0  316.0   \n",
      "\n",
      "     abl  distance  \n",
      "0  138.0  6.221528  \n",
      "1  138.0  0.115910  \n",
      "2  138.0  0.363603  \n",
      "3  138.0  0.199119  \n",
      "4  138.0  0.140720  \n",
      "\n",
      "[5 rows x 30 columns]\n"
     ]
    }
   ],
   "source": [
    "df = pd.read_csv(r\"C:\\Users\\ngwen\\OneDrive\\Desktop\\hack\\pookies\\datasets\\ais_dataset.csv\")\n",
    "print(df.head())"
   ]
  },
  {
   "cell_type": "code",
   "execution_count": 25,
   "metadata": {},
   "outputs": [
    {
     "data": {
      "text/plain": [
       "(251769, 30)"
      ]
     },
     "execution_count": 25,
     "metadata": {},
     "output_type": "execute_result"
    }
   ],
   "source": [
    "df.shape"
   ]
  },
  {
   "cell_type": "code",
   "execution_count": 23,
   "metadata": {},
   "outputs": [
    {
     "name": "stdout",
     "output_type": "stream",
     "text": [
      "Index(['imo', 'mmsi', 'vessel_name', 'date_of_build', 'vessel_type', 'group',\n",
      "       'timestamp', 'lon', 'lat', 'nav_stat', 'speed', 'course', 'heading',\n",
      "       'fuel_category', 'main_engine_fuel_type', 'aux_engine_fuel_type',\n",
      "       'engine_type', 'berth', 'port_name', 'anchorage', 'terminal',\n",
      "       'maneuvering_zone', 'p', 'vref', 'sfc_me', 'sfc_ae', 'sfc_ab', 'ael',\n",
      "       'abl', 'distance'],\n",
      "      dtype='object')\n"
     ]
    }
   ],
   "source": [
    "print(df.columns)"
   ]
  },
  {
   "cell_type": "code",
   "execution_count": 26,
   "metadata": {},
   "outputs": [
    {
     "name": "stdout",
     "output_type": "stream",
     "text": [
      "Number of missing values for each column:\n",
      "imo                           0\n",
      "mmsi                          0\n",
      "vessel_name                   0\n",
      "date_of_build                 0\n",
      "vessel_type                   0\n",
      "group                         0\n",
      "timestamp                     0\n",
      "lon                           0\n",
      "lat                           0\n",
      "nav_stat                      0\n",
      "speed                      2017\n",
      "course                        0\n",
      "heading                    1305\n",
      "fuel_category                 0\n",
      "main_engine_fuel_type         0\n",
      "aux_engine_fuel_type          0\n",
      "engine_type                 435\n",
      "berth                    251769\n",
      "port_name                     0\n",
      "anchorage                  2113\n",
      "terminal                 251769\n",
      "maneuvering_zone         251769\n",
      "p                           451\n",
      "vref                       1682\n",
      "sfc_me                      435\n",
      "sfc_ae                      435\n",
      "sfc_ab                        0\n",
      "ael                           0\n",
      "abl                           0\n",
      "distance                      0\n",
      "dtype: int64\n"
     ]
    }
   ],
   "source": [
    "missing_values = df.isnull().sum()\n",
    "\n",
    "\n",
    "print(\"Number of missing values for each column:\")\n",
    "print(missing_values)"
   ]
  },
  {
   "cell_type": "code",
   "execution_count": 27,
   "metadata": {},
   "outputs": [
    {
     "name": "stdout",
     "output_type": "stream",
     "text": [
      "<class 'pandas.core.frame.DataFrame'>\n",
      "RangeIndex: 251769 entries, 0 to 251768\n",
      "Data columns (total 27 columns):\n",
      " #   Column                 Non-Null Count   Dtype  \n",
      "---  ------                 --------------   -----  \n",
      " 0   imo                    251769 non-null  int64  \n",
      " 1   mmsi                   251769 non-null  int64  \n",
      " 2   vessel_name            251769 non-null  object \n",
      " 3   date_of_build          251769 non-null  object \n",
      " 4   vessel_type            251769 non-null  object \n",
      " 5   group                  251769 non-null  object \n",
      " 6   timestamp              251769 non-null  object \n",
      " 7   lon                    251769 non-null  float64\n",
      " 8   lat                    251769 non-null  float64\n",
      " 9   nav_stat               251769 non-null  int64  \n",
      " 10  speed                  249752 non-null  float64\n",
      " 11  course                 251769 non-null  int64  \n",
      " 12  heading                250464 non-null  float64\n",
      " 13  fuel_category          251769 non-null  int64  \n",
      " 14  main_engine_fuel_type  251769 non-null  object \n",
      " 15  aux_engine_fuel_type   251769 non-null  object \n",
      " 16  engine_type            251334 non-null  object \n",
      " 17  port_name              251769 non-null  object \n",
      " 18  anchorage              249656 non-null  object \n",
      " 19  p                      251318 non-null  float64\n",
      " 20  vref                   250087 non-null  float64\n",
      " 21  sfc_me                 251334 non-null  float64\n",
      " 22  sfc_ae                 251334 non-null  float64\n",
      " 23  sfc_ab                 251769 non-null  float64\n",
      " 24  ael                    251769 non-null  float64\n",
      " 25  abl                    251769 non-null  float64\n",
      " 26  distance               251769 non-null  float64\n",
      "dtypes: float64(12), int64(5), object(10)\n",
      "memory usage: 51.9+ MB\n",
      "None\n"
     ]
    }
   ],
   "source": [
    "# Drop the specified columns\n",
    "df = df.drop(columns=['berth', 'terminal', 'maneuvering_zone'])\n",
    "\n",
    "\n",
    "print(df.info())\n"
   ]
  }
 ],
 "metadata": {
  "kernelspec": {
   "display_name": "base",
   "language": "python",
   "name": "python3"
  },
  "language_info": {
   "codemirror_mode": {
    "name": "ipython",
    "version": 3
   },
   "file_extension": ".py",
   "mimetype": "text/x-python",
   "name": "python",
   "nbconvert_exporter": "python",
   "pygments_lexer": "ipython3",
   "version": "3.12.4"
  }
 },
 "nbformat": 4,
 "nbformat_minor": 2
}
